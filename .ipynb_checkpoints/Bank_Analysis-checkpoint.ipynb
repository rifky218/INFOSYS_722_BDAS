{
 "cells": [
  {
   "cell_type": "code",
   "execution_count": 1,
   "metadata": {},
   "outputs": [],
   "source": [
    "# Must be included at the beginning of each new notebook. Remember to change the app name.\n",
    "import findspark\n",
    "findspark.init('/home/ubuntu/spark-2.1.1-bin-hadoop2.7')\n",
    "import pyspark\n",
    "from pyspark.sql import SparkSession\n",
    "spark = SparkSession.builder.appName('Iteration 4').getOrCreate()\n",
    "\n",
    "import numpy as np\n",
    "import pandas as pd\n",
    "\n",
    "# If you're getting an error with numpy, please type 'sudo pip install numpy --user' into the EC2 console.\n",
    "from pyspark.ml.regression import LinearRegression"
   ]
  },
  {
   "cell_type": "markdown",
   "metadata": {},
   "source": [
    "# 2. DATA UNDERSTANDING"
   ]
  },
  {
   "cell_type": "code",
   "execution_count": 2,
   "metadata": {},
   "outputs": [],
   "source": [
    "# Load the Data \n",
    "bank = spark.read.csv(\"bank.csv\", inferSchema=True, header=True, nullValue='unknown')"
   ]
  },
  {
   "cell_type": "code",
   "execution_count": 3,
   "metadata": {},
   "outputs": [
    {
     "data": {
      "text/plain": [
       "(41188, 21)"
      ]
     },
     "execution_count": 3,
     "metadata": {},
     "output_type": "execute_result"
    }
   ],
   "source": [
    "# Check the number of rows and columns\n",
    "bank.count(), len(bank.columns)"
   ]
  },
  {
   "cell_type": "markdown",
   "metadata": {},
   "source": [
    "# Data Exploration"
   ]
  },
  {
   "cell_type": "code",
   "execution_count": 4,
   "metadata": {
    "scrolled": false
   },
   "outputs": [
    {
     "name": "stdout",
     "output_type": "stream",
     "text": [
      "<class 'pyspark.sql.dataframe.DataFrame'>\n",
      "root\n",
      " |-- age: integer (nullable = true)\n",
      " |-- job: string (nullable = true)\n",
      " |-- marital: string (nullable = true)\n",
      " |-- education: string (nullable = true)\n",
      " |-- default: string (nullable = true)\n",
      " |-- housing: string (nullable = true)\n",
      " |-- loan: string (nullable = true)\n",
      " |-- contact: string (nullable = true)\n",
      " |-- month: string (nullable = true)\n",
      " |-- day_of_week: string (nullable = true)\n",
      " |-- duration: integer (nullable = true)\n",
      " |-- campaign: integer (nullable = true)\n",
      " |-- pdays: integer (nullable = true)\n",
      " |-- previous: integer (nullable = true)\n",
      " |-- poutcome: string (nullable = true)\n",
      " |-- emp_var_rate: double (nullable = true)\n",
      " |-- cons_price_idx: double (nullable = true)\n",
      " |-- cons_conf_idx: double (nullable = true)\n",
      " |-- euribor3m: double (nullable = true)\n",
      " |-- nr_employed: double (nullable = true)\n",
      " |-- takers: integer (nullable = true)\n",
      "\n",
      "None\n"
     ]
    }
   ],
   "source": [
    "# Check object type\n",
    "print(type(bank))\n",
    "\n",
    "# Cek column types\n",
    "print(bank.printSchema())"
   ]
  },
  {
   "cell_type": "markdown",
   "metadata": {},
   "source": [
    "# For the EDA Visualization -> See the Tableau Files"
   ]
  },
  {
   "cell_type": "code",
   "execution_count": 5,
   "metadata": {
    "scrolled": true
   },
   "outputs": [
    {
     "data": {
      "text/html": [
       "<div>\n",
       "<style scoped>\n",
       "    .dataframe tbody tr th:only-of-type {\n",
       "        vertical-align: middle;\n",
       "    }\n",
       "\n",
       "    .dataframe tbody tr th {\n",
       "        vertical-align: top;\n",
       "    }\n",
       "\n",
       "    .dataframe thead th {\n",
       "        text-align: right;\n",
       "    }\n",
       "</style>\n",
       "<table border=\"1\" class=\"dataframe\">\n",
       "  <thead>\n",
       "    <tr style=\"text-align: right;\">\n",
       "      <th></th>\n",
       "      <th>summary</th>\n",
       "      <th>age</th>\n",
       "      <th>job</th>\n",
       "      <th>marital</th>\n",
       "      <th>education</th>\n",
       "      <th>default</th>\n",
       "      <th>housing</th>\n",
       "      <th>loan</th>\n",
       "      <th>contact</th>\n",
       "      <th>month</th>\n",
       "      <th>...</th>\n",
       "      <th>campaign</th>\n",
       "      <th>pdays</th>\n",
       "      <th>previous</th>\n",
       "      <th>poutcome</th>\n",
       "      <th>emp_var_rate</th>\n",
       "      <th>cons_price_idx</th>\n",
       "      <th>cons_conf_idx</th>\n",
       "      <th>euribor3m</th>\n",
       "      <th>nr_employed</th>\n",
       "      <th>takers</th>\n",
       "    </tr>\n",
       "  </thead>\n",
       "  <tbody>\n",
       "    <tr>\n",
       "      <th>0</th>\n",
       "      <td>count</td>\n",
       "      <td>41188</td>\n",
       "      <td>40858</td>\n",
       "      <td>41108</td>\n",
       "      <td>39457</td>\n",
       "      <td>32591</td>\n",
       "      <td>40198</td>\n",
       "      <td>40198</td>\n",
       "      <td>41188</td>\n",
       "      <td>41188</td>\n",
       "      <td>...</td>\n",
       "      <td>41188</td>\n",
       "      <td>41188</td>\n",
       "      <td>41188</td>\n",
       "      <td>41188</td>\n",
       "      <td>41188</td>\n",
       "      <td>41188</td>\n",
       "      <td>41188</td>\n",
       "      <td>41188</td>\n",
       "      <td>41188</td>\n",
       "      <td>41188</td>\n",
       "    </tr>\n",
       "    <tr>\n",
       "      <th>1</th>\n",
       "      <td>mean</td>\n",
       "      <td>40.02406040594348</td>\n",
       "      <td>None</td>\n",
       "      <td>None</td>\n",
       "      <td>None</td>\n",
       "      <td>None</td>\n",
       "      <td>None</td>\n",
       "      <td>None</td>\n",
       "      <td>None</td>\n",
       "      <td>None</td>\n",
       "      <td>...</td>\n",
       "      <td>2.567592502670681</td>\n",
       "      <td>962.4754540157328</td>\n",
       "      <td>0.17296299893172767</td>\n",
       "      <td>None</td>\n",
       "      <td>-0.6517393316357063</td>\n",
       "      <td>85393.73800676703</td>\n",
       "      <td>-40.50260027191399</td>\n",
       "      <td>3179.731503495394</td>\n",
       "      <td>1152.9059172064758</td>\n",
       "      <td>0.11265417111780131</td>\n",
       "    </tr>\n",
       "    <tr>\n",
       "      <th>2</th>\n",
       "      <td>stddev</td>\n",
       "      <td>10.421249980934045</td>\n",
       "      <td>None</td>\n",
       "      <td>None</td>\n",
       "      <td>None</td>\n",
       "      <td>None</td>\n",
       "      <td>None</td>\n",
       "      <td>None</td>\n",
       "      <td>None</td>\n",
       "      <td>None</td>\n",
       "      <td>...</td>\n",
       "      <td>2.770013542902322</td>\n",
       "      <td>186.91090734474153</td>\n",
       "      <td>0.49490107983929055</td>\n",
       "      <td>None</td>\n",
       "      <td>1.0248699440001923</td>\n",
       "      <td>26496.779264029818</td>\n",
       "      <td>4.628197856174574</td>\n",
       "      <td>2087.2625209512007</td>\n",
       "      <td>1946.0827256394978</td>\n",
       "      <td>0.3161734269429656</td>\n",
       "    </tr>\n",
       "    <tr>\n",
       "      <th>3</th>\n",
       "      <td>min</td>\n",
       "      <td>17</td>\n",
       "      <td>admin.</td>\n",
       "      <td>divorced</td>\n",
       "      <td>basic.4y</td>\n",
       "      <td>no</td>\n",
       "      <td>no</td>\n",
       "      <td>no</td>\n",
       "      <td>cellular</td>\n",
       "      <td>apr</td>\n",
       "      <td>...</td>\n",
       "      <td>1</td>\n",
       "      <td>0</td>\n",
       "      <td>0</td>\n",
       "      <td>failure</td>\n",
       "      <td>-3.4</td>\n",
       "      <td>3.876388889</td>\n",
       "      <td>-50.8</td>\n",
       "      <td>0.004861111</td>\n",
       "      <td>206.7958333</td>\n",
       "      <td>0</td>\n",
       "    </tr>\n",
       "    <tr>\n",
       "      <th>4</th>\n",
       "      <td>max</td>\n",
       "      <td>98</td>\n",
       "      <td>unemployed</td>\n",
       "      <td>single</td>\n",
       "      <td>university.degree</td>\n",
       "      <td>yes</td>\n",
       "      <td>yes</td>\n",
       "      <td>yes</td>\n",
       "      <td>telephone</td>\n",
       "      <td>sep</td>\n",
       "      <td>...</td>\n",
       "      <td>56</td>\n",
       "      <td>999</td>\n",
       "      <td>7</td>\n",
       "      <td>success</td>\n",
       "      <td>0.044444444</td>\n",
       "      <td>94767.0</td>\n",
       "      <td>-26.9</td>\n",
       "      <td>5045.0</td>\n",
       "      <td>5191.0</td>\n",
       "      <td>1</td>\n",
       "    </tr>\n",
       "  </tbody>\n",
       "</table>\n",
       "<p>5 rows × 22 columns</p>\n",
       "</div>"
      ],
      "text/plain": [
       "  summary                 age         job   marital          education  \\\n",
       "0   count               41188       40858     41108              39457   \n",
       "1    mean   40.02406040594348        None      None               None   \n",
       "2  stddev  10.421249980934045        None      None               None   \n",
       "3     min                  17      admin.  divorced           basic.4y   \n",
       "4     max                  98  unemployed    single  university.degree   \n",
       "\n",
       "  default housing   loan    contact  month         ...           \\\n",
       "0   32591   40198  40198      41188  41188         ...            \n",
       "1    None    None   None       None   None         ...            \n",
       "2    None    None   None       None   None         ...            \n",
       "3      no      no     no   cellular    apr         ...            \n",
       "4     yes     yes    yes  telephone    sep         ...            \n",
       "\n",
       "            campaign               pdays             previous poutcome  \\\n",
       "0              41188               41188                41188    41188   \n",
       "1  2.567592502670681   962.4754540157328  0.17296299893172767     None   \n",
       "2  2.770013542902322  186.91090734474153  0.49490107983929055     None   \n",
       "3                  1                   0                    0  failure   \n",
       "4                 56                 999                    7  success   \n",
       "\n",
       "          emp_var_rate      cons_price_idx       cons_conf_idx  \\\n",
       "0                41188               41188               41188   \n",
       "1  -0.6517393316357063   85393.73800676703  -40.50260027191399   \n",
       "2   1.0248699440001923  26496.779264029818   4.628197856174574   \n",
       "3                 -3.4         3.876388889               -50.8   \n",
       "4          0.044444444             94767.0               -26.9   \n",
       "\n",
       "            euribor3m         nr_employed               takers  \n",
       "0               41188               41188                41188  \n",
       "1   3179.731503495394  1152.9059172064758  0.11265417111780131  \n",
       "2  2087.2625209512007  1946.0827256394978   0.3161734269429656  \n",
       "3         0.004861111         206.7958333                    0  \n",
       "4              5045.0              5191.0                    1  \n",
       "\n",
       "[5 rows x 22 columns]"
      ]
     },
     "execution_count": 5,
     "metadata": {},
     "output_type": "execute_result"
    }
   ],
   "source": [
    "# Descriptive Statistics of the numerical columns\n",
    "bank.describe().toPandas()"
   ]
  },
  {
   "cell_type": "code",
   "execution_count": 6,
   "metadata": {
    "scrolled": false
   },
   "outputs": [
    {
     "name": "stdout",
     "output_type": "stream",
     "text": [
      "+--------------+-------------+-------------------+\n",
      "|   Column_Name|Count_Missing|Percent_Missing (%)|\n",
      "+--------------+-------------+-------------------+\n",
      "|           age|            0|                0.0|\n",
      "|           job|          330|              0.801|\n",
      "|       marital|           80|              0.194|\n",
      "|     education|         1731|              4.203|\n",
      "|       default|         8597|             20.873|\n",
      "|       housing|          990|              2.404|\n",
      "|          loan|          990|              2.404|\n",
      "|       contact|            0|                0.0|\n",
      "|         month|            0|                0.0|\n",
      "|   day_of_week|            0|                0.0|\n",
      "|      duration|            0|                0.0|\n",
      "|      campaign|            0|                0.0|\n",
      "|         pdays|            0|                0.0|\n",
      "|      previous|            0|                0.0|\n",
      "|      poutcome|            0|                0.0|\n",
      "|  emp_var_rate|            0|                0.0|\n",
      "|cons_price_idx|            0|                0.0|\n",
      "| cons_conf_idx|            0|                0.0|\n",
      "|     euribor3m|            0|                0.0|\n",
      "|   nr_employed|            0|                0.0|\n",
      "+--------------+-------------+-------------------+\n",
      "only showing top 20 rows\n",
      "\n"
     ]
    }
   ],
   "source": [
    "# Check Missing Values\n",
    "from pyspark.sql.functions import *\n",
    "import pyspark.sql.functions as f\n",
    "\n",
    "bank_agg = bank.agg(*[f.count(f.when(f.isnull(c), c)).alias(c) for c in bank.columns])\n",
    "from functools import reduce\n",
    "bank_agg_col = reduce(\n",
    "    lambda a, b: a.union(b),\n",
    "    (\n",
    "        bank_agg.select(f.lit(c).alias(\"Column_Name\"), f.col(c).alias(\"Count_Missing\")) \n",
    "        for c in bank_agg.columns\n",
    "    )\n",
    ")\n",
    "\n",
    "bank_agg_col = bank_agg_col.withColumn('Percent_Missing (%)', expr('Count_Missing/41188*100'))\n",
    "bank_agg_col = bank_agg_col.select(['Column_Name', 'Count_Missing', \n",
    "                                    round('Percent_Missing (%)', 3).alias(\"Percent_Missing (%)\")])\n",
    "bank_agg_col.show()"
   ]
  },
  {
   "cell_type": "code",
   "execution_count": 7,
   "metadata": {
    "scrolled": true
   },
   "outputs": [
    {
     "data": {
      "text/html": [
       "<div>\n",
       "<style scoped>\n",
       "    .dataframe tbody tr th:only-of-type {\n",
       "        vertical-align: middle;\n",
       "    }\n",
       "\n",
       "    .dataframe tbody tr th {\n",
       "        vertical-align: top;\n",
       "    }\n",
       "\n",
       "    .dataframe thead th {\n",
       "        text-align: right;\n",
       "    }\n",
       "</style>\n",
       "<table border=\"1\" class=\"dataframe\">\n",
       "  <thead>\n",
       "    <tr style=\"text-align: right;\">\n",
       "      <th></th>\n",
       "      <th>age</th>\n",
       "      <th>job</th>\n",
       "      <th>marital</th>\n",
       "      <th>education</th>\n",
       "      <th>default</th>\n",
       "      <th>housing</th>\n",
       "      <th>loan</th>\n",
       "      <th>contact</th>\n",
       "      <th>month</th>\n",
       "      <th>day_of_week</th>\n",
       "      <th>...</th>\n",
       "      <th>campaign</th>\n",
       "      <th>pdays</th>\n",
       "      <th>previous</th>\n",
       "      <th>poutcome</th>\n",
       "      <th>emp_var_rate</th>\n",
       "      <th>cons_price_idx</th>\n",
       "      <th>cons_conf_idx</th>\n",
       "      <th>euribor3m</th>\n",
       "      <th>nr_employed</th>\n",
       "      <th>takers</th>\n",
       "    </tr>\n",
       "  </thead>\n",
       "  <tbody>\n",
       "    <tr>\n",
       "      <th>0</th>\n",
       "      <td>56</td>\n",
       "      <td>housemaid</td>\n",
       "      <td>married</td>\n",
       "      <td>basic.4y</td>\n",
       "      <td>no</td>\n",
       "      <td>no</td>\n",
       "      <td>no</td>\n",
       "      <td>telephone</td>\n",
       "      <td>may</td>\n",
       "      <td>mon</td>\n",
       "      <td>...</td>\n",
       "      <td>1</td>\n",
       "      <td>999</td>\n",
       "      <td>0</td>\n",
       "      <td>nonexistent</td>\n",
       "      <td>0.042361</td>\n",
       "      <td>93994.0</td>\n",
       "      <td>-36.4</td>\n",
       "      <td>4857.0</td>\n",
       "      <td>5191.0</td>\n",
       "      <td>0</td>\n",
       "    </tr>\n",
       "    <tr>\n",
       "      <th>1</th>\n",
       "      <td>57</td>\n",
       "      <td>services</td>\n",
       "      <td>married</td>\n",
       "      <td>high.school</td>\n",
       "      <td>None</td>\n",
       "      <td>no</td>\n",
       "      <td>no</td>\n",
       "      <td>telephone</td>\n",
       "      <td>may</td>\n",
       "      <td>mon</td>\n",
       "      <td>...</td>\n",
       "      <td>1</td>\n",
       "      <td>999</td>\n",
       "      <td>0</td>\n",
       "      <td>nonexistent</td>\n",
       "      <td>0.042361</td>\n",
       "      <td>93994.0</td>\n",
       "      <td>-36.4</td>\n",
       "      <td>4857.0</td>\n",
       "      <td>5191.0</td>\n",
       "      <td>0</td>\n",
       "    </tr>\n",
       "    <tr>\n",
       "      <th>2</th>\n",
       "      <td>37</td>\n",
       "      <td>services</td>\n",
       "      <td>married</td>\n",
       "      <td>high.school</td>\n",
       "      <td>no</td>\n",
       "      <td>yes</td>\n",
       "      <td>no</td>\n",
       "      <td>telephone</td>\n",
       "      <td>may</td>\n",
       "      <td>mon</td>\n",
       "      <td>...</td>\n",
       "      <td>1</td>\n",
       "      <td>999</td>\n",
       "      <td>0</td>\n",
       "      <td>nonexistent</td>\n",
       "      <td>0.042361</td>\n",
       "      <td>93994.0</td>\n",
       "      <td>-36.4</td>\n",
       "      <td>4857.0</td>\n",
       "      <td>5191.0</td>\n",
       "      <td>0</td>\n",
       "    </tr>\n",
       "    <tr>\n",
       "      <th>3</th>\n",
       "      <td>40</td>\n",
       "      <td>admin.</td>\n",
       "      <td>married</td>\n",
       "      <td>basic.6y</td>\n",
       "      <td>no</td>\n",
       "      <td>no</td>\n",
       "      <td>no</td>\n",
       "      <td>telephone</td>\n",
       "      <td>may</td>\n",
       "      <td>mon</td>\n",
       "      <td>...</td>\n",
       "      <td>1</td>\n",
       "      <td>999</td>\n",
       "      <td>0</td>\n",
       "      <td>nonexistent</td>\n",
       "      <td>0.042361</td>\n",
       "      <td>93994.0</td>\n",
       "      <td>-36.4</td>\n",
       "      <td>4857.0</td>\n",
       "      <td>5191.0</td>\n",
       "      <td>0</td>\n",
       "    </tr>\n",
       "    <tr>\n",
       "      <th>4</th>\n",
       "      <td>56</td>\n",
       "      <td>services</td>\n",
       "      <td>married</td>\n",
       "      <td>high.school</td>\n",
       "      <td>no</td>\n",
       "      <td>no</td>\n",
       "      <td>yes</td>\n",
       "      <td>telephone</td>\n",
       "      <td>may</td>\n",
       "      <td>mon</td>\n",
       "      <td>...</td>\n",
       "      <td>1</td>\n",
       "      <td>999</td>\n",
       "      <td>0</td>\n",
       "      <td>nonexistent</td>\n",
       "      <td>0.042361</td>\n",
       "      <td>93994.0</td>\n",
       "      <td>-36.4</td>\n",
       "      <td>4857.0</td>\n",
       "      <td>5191.0</td>\n",
       "      <td>0</td>\n",
       "    </tr>\n",
       "  </tbody>\n",
       "</table>\n",
       "<p>5 rows × 21 columns</p>\n",
       "</div>"
      ],
      "text/plain": [
       "   age        job  marital    education default housing loan    contact month  \\\n",
       "0   56  housemaid  married     basic.4y      no      no   no  telephone   may   \n",
       "1   57   services  married  high.school    None      no   no  telephone   may   \n",
       "2   37   services  married  high.school      no     yes   no  telephone   may   \n",
       "3   40     admin.  married     basic.6y      no      no   no  telephone   may   \n",
       "4   56   services  married  high.school      no      no  yes  telephone   may   \n",
       "\n",
       "  day_of_week   ...    campaign  pdays  previous     poutcome emp_var_rate  \\\n",
       "0         mon   ...           1    999         0  nonexistent     0.042361   \n",
       "1         mon   ...           1    999         0  nonexistent     0.042361   \n",
       "2         mon   ...           1    999         0  nonexistent     0.042361   \n",
       "3         mon   ...           1    999         0  nonexistent     0.042361   \n",
       "4         mon   ...           1    999         0  nonexistent     0.042361   \n",
       "\n",
       "   cons_price_idx  cons_conf_idx  euribor3m  nr_employed  takers  \n",
       "0         93994.0          -36.4     4857.0       5191.0       0  \n",
       "1         93994.0          -36.4     4857.0       5191.0       0  \n",
       "2         93994.0          -36.4     4857.0       5191.0       0  \n",
       "3         93994.0          -36.4     4857.0       5191.0       0  \n",
       "4         93994.0          -36.4     4857.0       5191.0       0  \n",
       "\n",
       "[5 rows x 21 columns]"
      ]
     },
     "execution_count": 7,
     "metadata": {},
     "output_type": "execute_result"
    }
   ],
   "source": [
    "# View the top 5 observation in a Pandas data type\n",
    "bank.limit(5).toPandas()"
   ]
  },
  {
   "cell_type": "code",
   "execution_count": 8,
   "metadata": {},
   "outputs": [
    {
     "data": {
      "text/html": [
       "<div>\n",
       "<style scoped>\n",
       "    .dataframe tbody tr th:only-of-type {\n",
       "        vertical-align: middle;\n",
       "    }\n",
       "\n",
       "    .dataframe tbody tr th {\n",
       "        vertical-align: top;\n",
       "    }\n",
       "\n",
       "    .dataframe thead th {\n",
       "        text-align: right;\n",
       "    }\n",
       "</style>\n",
       "<table border=\"1\" class=\"dataframe\">\n",
       "  <thead>\n",
       "    <tr style=\"text-align: right;\">\n",
       "      <th></th>\n",
       "      <th>age</th>\n",
       "      <th>job</th>\n",
       "      <th>marital</th>\n",
       "      <th>education</th>\n",
       "      <th>default</th>\n",
       "      <th>housing</th>\n",
       "      <th>loan</th>\n",
       "      <th>contact</th>\n",
       "      <th>month</th>\n",
       "      <th>day_of_week</th>\n",
       "      <th>...</th>\n",
       "      <th>age_out</th>\n",
       "      <th>duration_out</th>\n",
       "      <th>campaign_out</th>\n",
       "      <th>pdays_out</th>\n",
       "      <th>previous_out</th>\n",
       "      <th>emp_var_rate_out</th>\n",
       "      <th>cons_price_idx_out</th>\n",
       "      <th>cons_conf_idx_out</th>\n",
       "      <th>euribor3m_out</th>\n",
       "      <th>nr_employed_out</th>\n",
       "    </tr>\n",
       "  </thead>\n",
       "  <tbody>\n",
       "    <tr>\n",
       "      <th>0</th>\n",
       "      <td>56</td>\n",
       "      <td>housemaid</td>\n",
       "      <td>married</td>\n",
       "      <td>basic.4y</td>\n",
       "      <td>no</td>\n",
       "      <td>no</td>\n",
       "      <td>no</td>\n",
       "      <td>telephone</td>\n",
       "      <td>may</td>\n",
       "      <td>mon</td>\n",
       "      <td>...</td>\n",
       "      <td>0</td>\n",
       "      <td>0</td>\n",
       "      <td>0</td>\n",
       "      <td>0</td>\n",
       "      <td>0</td>\n",
       "      <td>0</td>\n",
       "      <td>0</td>\n",
       "      <td>0</td>\n",
       "      <td>0</td>\n",
       "      <td>1</td>\n",
       "    </tr>\n",
       "    <tr>\n",
       "      <th>1</th>\n",
       "      <td>57</td>\n",
       "      <td>services</td>\n",
       "      <td>married</td>\n",
       "      <td>high.school</td>\n",
       "      <td>None</td>\n",
       "      <td>no</td>\n",
       "      <td>no</td>\n",
       "      <td>telephone</td>\n",
       "      <td>may</td>\n",
       "      <td>mon</td>\n",
       "      <td>...</td>\n",
       "      <td>0</td>\n",
       "      <td>0</td>\n",
       "      <td>0</td>\n",
       "      <td>0</td>\n",
       "      <td>0</td>\n",
       "      <td>0</td>\n",
       "      <td>0</td>\n",
       "      <td>0</td>\n",
       "      <td>0</td>\n",
       "      <td>1</td>\n",
       "    </tr>\n",
       "    <tr>\n",
       "      <th>2</th>\n",
       "      <td>37</td>\n",
       "      <td>services</td>\n",
       "      <td>married</td>\n",
       "      <td>high.school</td>\n",
       "      <td>no</td>\n",
       "      <td>yes</td>\n",
       "      <td>no</td>\n",
       "      <td>telephone</td>\n",
       "      <td>may</td>\n",
       "      <td>mon</td>\n",
       "      <td>...</td>\n",
       "      <td>0</td>\n",
       "      <td>0</td>\n",
       "      <td>0</td>\n",
       "      <td>0</td>\n",
       "      <td>0</td>\n",
       "      <td>0</td>\n",
       "      <td>0</td>\n",
       "      <td>0</td>\n",
       "      <td>0</td>\n",
       "      <td>1</td>\n",
       "    </tr>\n",
       "    <tr>\n",
       "      <th>3</th>\n",
       "      <td>40</td>\n",
       "      <td>admin.</td>\n",
       "      <td>married</td>\n",
       "      <td>basic.6y</td>\n",
       "      <td>no</td>\n",
       "      <td>no</td>\n",
       "      <td>no</td>\n",
       "      <td>telephone</td>\n",
       "      <td>may</td>\n",
       "      <td>mon</td>\n",
       "      <td>...</td>\n",
       "      <td>0</td>\n",
       "      <td>0</td>\n",
       "      <td>0</td>\n",
       "      <td>0</td>\n",
       "      <td>0</td>\n",
       "      <td>0</td>\n",
       "      <td>0</td>\n",
       "      <td>0</td>\n",
       "      <td>0</td>\n",
       "      <td>1</td>\n",
       "    </tr>\n",
       "    <tr>\n",
       "      <th>4</th>\n",
       "      <td>56</td>\n",
       "      <td>services</td>\n",
       "      <td>married</td>\n",
       "      <td>high.school</td>\n",
       "      <td>no</td>\n",
       "      <td>no</td>\n",
       "      <td>yes</td>\n",
       "      <td>telephone</td>\n",
       "      <td>may</td>\n",
       "      <td>mon</td>\n",
       "      <td>...</td>\n",
       "      <td>0</td>\n",
       "      <td>0</td>\n",
       "      <td>0</td>\n",
       "      <td>0</td>\n",
       "      <td>0</td>\n",
       "      <td>0</td>\n",
       "      <td>0</td>\n",
       "      <td>0</td>\n",
       "      <td>0</td>\n",
       "      <td>1</td>\n",
       "    </tr>\n",
       "  </tbody>\n",
       "</table>\n",
       "<p>5 rows × 31 columns</p>\n",
       "</div>"
      ],
      "text/plain": [
       "   age        job  marital    education default housing loan    contact month  \\\n",
       "0   56  housemaid  married     basic.4y      no      no   no  telephone   may   \n",
       "1   57   services  married  high.school    None      no   no  telephone   may   \n",
       "2   37   services  married  high.school      no     yes   no  telephone   may   \n",
       "3   40     admin.  married     basic.6y      no      no   no  telephone   may   \n",
       "4   56   services  married  high.school      no      no  yes  telephone   may   \n",
       "\n",
       "  day_of_week       ...         age_out  duration_out  campaign_out  \\\n",
       "0         mon       ...               0             0             0   \n",
       "1         mon       ...               0             0             0   \n",
       "2         mon       ...               0             0             0   \n",
       "3         mon       ...               0             0             0   \n",
       "4         mon       ...               0             0             0   \n",
       "\n",
       "   pdays_out previous_out  emp_var_rate_out  cons_price_idx_out  \\\n",
       "0          0            0                 0                   0   \n",
       "1          0            0                 0                   0   \n",
       "2          0            0                 0                   0   \n",
       "3          0            0                 0                   0   \n",
       "4          0            0                 0                   0   \n",
       "\n",
       "   cons_conf_idx_out  euribor3m_out  nr_employed_out  \n",
       "0                  0              0                1  \n",
       "1                  0              0                1  \n",
       "2                  0              0                1  \n",
       "3                  0              0                1  \n",
       "4                  0              0                1  \n",
       "\n",
       "[5 rows x 31 columns]"
      ]
     },
     "execution_count": 8,
     "metadata": {},
     "output_type": "execute_result"
    }
   ],
   "source": [
    "# Check Outliers\n",
    "bounds = {\n",
    "    c: dict(\n",
    "        zip([\"q1\", \"q3\"], bank.approxQuantile(c, [0.25, 0.75], 0))\n",
    "    )\n",
    "    for c in ['age','duration','campaign','pdays','previous','emp_var_rate',\n",
    "              'cons_price_idx','cons_conf_idx','euribor3m','nr_employed']\n",
    "}\n",
    "\n",
    "for c in bounds:\n",
    "    iqr = bounds[c]['q3'] - bounds[c]['q1']\n",
    "    bounds[c]['lower'] = bounds[c]['q1'] - (iqr * 1.5)\n",
    "    bounds[c]['upper'] = bounds[c]['q3'] + (iqr * 1.5)\n",
    "\n",
    "bank_outliers = bank.select(\n",
    "    \"*\",\n",
    "    *[\n",
    "        f.when(\n",
    "            f.col(c).between(bounds[c]['lower'], bounds[c]['upper']),\n",
    "            0\n",
    "        ).otherwise(1).alias(c+\"_out\") \n",
    "        for c in ['age','duration','campaign','pdays','previous','emp_var_rate',\n",
    "                  'cons_price_idx','cons_conf_idx','euribor3m','nr_employed']\n",
    "    ]\n",
    ")\n",
    "\n",
    "bank_outliers.limit(5).toPandas()"
   ]
  },
  {
   "cell_type": "code",
   "execution_count": 9,
   "metadata": {
    "scrolled": true
   },
   "outputs": [
    {
     "name": "stdout",
     "output_type": "stream",
     "text": [
      "+------------------+--------------+--------------------+\n",
      "|       Column_Name|Count_Outliers|Percent_Outliers (%)|\n",
      "+------------------+--------------+--------------------+\n",
      "|           age_out|           469|               1.139|\n",
      "|      duration_out|          2963|               7.194|\n",
      "|      campaign_out|          2406|               5.842|\n",
      "|         pdays_out|          1515|               3.678|\n",
      "|      previous_out|          5625|              13.657|\n",
      "|  emp_var_rate_out|             0|                 0.0|\n",
      "|cons_price_idx_out|          3616|               8.779|\n",
      "| cons_conf_idx_out|           447|               1.085|\n",
      "|     euribor3m_out|             0|                 0.0|\n",
      "|   nr_employed_out|          7763|              18.848|\n",
      "+------------------+--------------+--------------------+\n",
      "\n"
     ]
    }
   ],
   "source": [
    "bank_agg_2 = bank_outliers.agg(*[f.sum(c).alias(c) for c in ['age_out','duration_out','campaign_out',\n",
    "                                                             'pdays_out','previous_out','emp_var_rate_out',\n",
    "                                                             'cons_price_idx_out','cons_conf_idx_out',\n",
    "                                                             'euribor3m_out','nr_employed_out']])\n",
    "from functools import reduce\n",
    "bank_outliers_col = reduce(\n",
    "    lambda a, b: a.union(b),\n",
    "    (\n",
    "        bank_agg_2.select(f.lit(c).alias(\"Column_Name\"), f.col(c).alias(\"Count_Outliers\")) \n",
    "        for c in ['age_out','duration_out','campaign_out','pdays_out','previous_out','emp_var_rate_out',\n",
    "                  'cons_price_idx_out','cons_conf_idx_out','euribor3m_out','nr_employed_out']\n",
    "    )\n",
    ")\n",
    "\n",
    "bank_outliers_col = bank_outliers_col.withColumn('Percent_Outliers (%)', expr('Count_Outliers/41188*100'))\n",
    "bank_outliers_col = bank_outliers_col.select(['Column_Name', 'Count_Outliers', \n",
    "                                    round('Percent_Outliers (%)', 3).alias(\"Percent_Outliers (%)\")])\n",
    "bank_outliers_col.show()"
   ]
  },
  {
   "cell_type": "markdown",
   "metadata": {},
   "source": [
    "# 3. Data Preparation"
   ]
  },
  {
   "cell_type": "code",
   "execution_count": 2,
   "metadata": {},
   "outputs": [],
   "source": [
    "# Load the Data \n",
    "bank = spark.read.csv(\"bank.csv\", inferSchema=True, header=True)"
   ]
  },
  {
   "cell_type": "markdown",
   "metadata": {},
   "source": [
    "# 3.1\tSelect the data "
   ]
  },
  {
   "cell_type": "code",
   "execution_count": 3,
   "metadata": {},
   "outputs": [
    {
     "data": {
      "text/plain": [
       "(39673, 21)"
      ]
     },
     "execution_count": 3,
     "metadata": {},
     "output_type": "execute_result"
    }
   ],
   "source": [
    "bank = bank.filter(bank.pdays==999)\n",
    "\n",
    "# Check the number of rows and columns\n",
    "bank.count(), len(bank.columns)"
   ]
  },
  {
   "cell_type": "code",
   "execution_count": 4,
   "metadata": {},
   "outputs": [
    {
     "data": {
      "text/plain": [
       "(39673, 19)"
      ]
     },
     "execution_count": 4,
     "metadata": {},
     "output_type": "execute_result"
    }
   ],
   "source": [
    "# Drop Columns\n",
    "bank = bank.drop(\"pdays\", \"duration\")\n",
    "\n",
    "# Check the number of rows and columns\n",
    "bank.count(), len(bank.columns)"
   ]
  },
  {
   "cell_type": "markdown",
   "metadata": {},
   "source": [
    "# 3.2 Clean the data "
   ]
  },
  {
   "cell_type": "code",
   "execution_count": 5,
   "metadata": {},
   "outputs": [],
   "source": [
    "# Remove Missing Values\n",
    "bank = bank.filter(bank.marital!='unknown')\n",
    "bank = bank.filter(bank.education!='unknown')\n",
    "bank = bank.filter(bank.housing!='unknown')\n",
    "bank = bank.filter(bank.loan!='unknown')"
   ]
  },
  {
   "cell_type": "code",
   "execution_count": 6,
   "metadata": {},
   "outputs": [
    {
     "data": {
      "text/plain": [
       "(37058, 19)"
      ]
     },
     "execution_count": 6,
     "metadata": {},
     "output_type": "execute_result"
    }
   ],
   "source": [
    "# Check the number of rows and columns\n",
    "bank.count(), len(bank.columns)"
   ]
  },
  {
   "cell_type": "code",
   "execution_count": 7,
   "metadata": {
    "scrolled": true
   },
   "outputs": [
    {
     "name": "stdout",
     "output_type": "stream",
     "text": [
      "+--------------+-------------+-------------------+\n",
      "|   Column_Name|Count_Missing|Percent_Missing (%)|\n",
      "+--------------+-------------+-------------------+\n",
      "|           age|            0|                0.0|\n",
      "|           job|            0|                0.0|\n",
      "|       marital|            0|                0.0|\n",
      "|     education|            0|                0.0|\n",
      "|       default|            0|                0.0|\n",
      "|       housing|            0|                0.0|\n",
      "|          loan|            0|                0.0|\n",
      "|       contact|            0|                0.0|\n",
      "|         month|            0|                0.0|\n",
      "|   day_of_week|            0|                0.0|\n",
      "|      campaign|            0|                0.0|\n",
      "|      previous|            0|                0.0|\n",
      "|      poutcome|            0|                0.0|\n",
      "|  emp_var_rate|            0|                0.0|\n",
      "|cons_price_idx|            0|                0.0|\n",
      "| cons_conf_idx|            0|                0.0|\n",
      "|     euribor3m|            0|                0.0|\n",
      "|   nr_employed|            0|                0.0|\n",
      "|        takers|            0|                0.0|\n",
      "+--------------+-------------+-------------------+\n",
      "\n"
     ]
    }
   ],
   "source": [
    "# Check Missing Values\n",
    "from pyspark.sql.functions import *\n",
    "import pyspark.sql.functions as f\n",
    "\n",
    "bank_agg = bank.agg(*[f.count(f.when(f.isnull(c), c)).alias(c) for c in bank.columns])\n",
    "from functools import reduce\n",
    "bank_agg_col = reduce(\n",
    "    lambda a, b: a.union(b),\n",
    "    (\n",
    "        bank_agg.select(f.lit(c).alias(\"Column_Name\"), f.col(c).alias(\"Count_Missing\")) \n",
    "        for c in bank_agg.columns\n",
    "    )\n",
    ")\n",
    "\n",
    "bank_agg_col = bank_agg_col.withColumn('Percent_Missing (%)', expr('Count_Missing/41188*100'))\n",
    "bank_agg_col = bank_agg_col.select(['Column_Name', 'Count_Missing', \n",
    "                                    round('Percent_Missing (%)', 3).alias(\"Percent_Missing (%)\")])\n",
    "bank_agg_col.show()"
   ]
  },
  {
   "cell_type": "code",
   "execution_count": 22,
   "metadata": {},
   "outputs": [
    {
     "data": {
      "image/png": "[encoded data removed]",
      "text/plain": [
       "<Figure size 648x360 with 1 Axes>"
      ]
     },
     "metadata": {},
     "output_type": "display_data"
    }
   ],
   "source": [
    "# Proportion of the Takers after remove the missing values\n",
    "import matplotlib.pyplot as plt\n",
    "\n",
    "original = bank.groupBy(\"takers\").count().toPandas()\n",
    "\n",
    "fig, ax = plt.subplots(ncols = 1, figsize=(9, 5))\n",
    "plt.subplots_adjust(wspace = 0.5)\n",
    "\n",
    "ypos = np.arange(len(original[\"takers\"]))\n",
    "bar_colours = [\"#ff7f0e\", \"#1f77b4\"]\n",
    "\n",
    "# Bar plot for original data set proportion\n",
    "ax.bar(ypos, original[\"count\"], tick_label = original[\"takers\"], color = bar_colours)\n",
    "ax.set(xlabel = \"takers\\n(Original)\")\n",
    "# Annotation config\n",
    "for p in ax.patches:\n",
    "    ax.text(\n",
    "        p.get_x() + p.get_width() / 2.,\n",
    "        p.get_height(),\n",
    "        \"%d\" % int(p.get_height()),\n",
    "        fontsize = 10,\n",
    "        ha = \"center\",\n",
    "        va = \"bottom\"\n",
    "    )\n",
    "    \n",
    "plt.show()\n"
   ]
  },
  {
   "cell_type": "markdown",
   "metadata": {},
   "source": [
    "# 3.3 Construct the data "
   ]
  },
  {
   "cell_type": "code",
   "execution_count": 8,
   "metadata": {
    "scrolled": false
   },
   "outputs": [
    {
     "data": {
      "text/html": [
       "<div>\n",
       "<style scoped>\n",
       "    .dataframe tbody tr th:only-of-type {\n",
       "        vertical-align: middle;\n",
       "    }\n",
       "\n",
       "    .dataframe tbody tr th {\n",
       "        vertical-align: top;\n",
       "    }\n",
       "\n",
       "    .dataframe thead th {\n",
       "        text-align: right;\n",
       "    }\n",
       "</style>\n",
       "<table border=\"1\" class=\"dataframe\">\n",
       "  <thead>\n",
       "    <tr style=\"text-align: right;\">\n",
       "      <th></th>\n",
       "      <th>age</th>\n",
       "      <th>job</th>\n",
       "      <th>marital</th>\n",
       "      <th>education</th>\n",
       "      <th>default</th>\n",
       "      <th>housing</th>\n",
       "      <th>loan</th>\n",
       "      <th>contact</th>\n",
       "      <th>month</th>\n",
       "      <th>day_of_week</th>\n",
       "      <th>...</th>\n",
       "      <th>poutcome</th>\n",
       "      <th>emp_var_rate</th>\n",
       "      <th>cons_price_idx</th>\n",
       "      <th>cons_conf_idx</th>\n",
       "      <th>euribor3m</th>\n",
       "      <th>nr_employed</th>\n",
       "      <th>takers</th>\n",
       "      <th>age_group</th>\n",
       "      <th>education_regrouping</th>\n",
       "      <th>quarter</th>\n",
       "    </tr>\n",
       "  </thead>\n",
       "  <tbody>\n",
       "    <tr>\n",
       "      <th>0</th>\n",
       "      <td>56</td>\n",
       "      <td>housemaid</td>\n",
       "      <td>married</td>\n",
       "      <td>basic.4y</td>\n",
       "      <td>no</td>\n",
       "      <td>no</td>\n",
       "      <td>no</td>\n",
       "      <td>telephone</td>\n",
       "      <td>may</td>\n",
       "      <td>mon</td>\n",
       "      <td>...</td>\n",
       "      <td>nonexistent</td>\n",
       "      <td>0.042361</td>\n",
       "      <td>93994.0</td>\n",
       "      <td>-36.4</td>\n",
       "      <td>4857.0</td>\n",
       "      <td>5191.0</td>\n",
       "      <td>0</td>\n",
       "      <td>&gt;=46</td>\n",
       "      <td>Low</td>\n",
       "      <td>Q2</td>\n",
       "    </tr>\n",
       "    <tr>\n",
       "      <th>1</th>\n",
       "      <td>57</td>\n",
       "      <td>services</td>\n",
       "      <td>married</td>\n",
       "      <td>high.school</td>\n",
       "      <td>unknown</td>\n",
       "      <td>no</td>\n",
       "      <td>no</td>\n",
       "      <td>telephone</td>\n",
       "      <td>may</td>\n",
       "      <td>mon</td>\n",
       "      <td>...</td>\n",
       "      <td>nonexistent</td>\n",
       "      <td>0.042361</td>\n",
       "      <td>93994.0</td>\n",
       "      <td>-36.4</td>\n",
       "      <td>4857.0</td>\n",
       "      <td>5191.0</td>\n",
       "      <td>0</td>\n",
       "      <td>&gt;=46</td>\n",
       "      <td>Middle</td>\n",
       "      <td>Q2</td>\n",
       "    </tr>\n",
       "    <tr>\n",
       "      <th>2</th>\n",
       "      <td>37</td>\n",
       "      <td>services</td>\n",
       "      <td>married</td>\n",
       "      <td>high.school</td>\n",
       "      <td>no</td>\n",
       "      <td>yes</td>\n",
       "      <td>no</td>\n",
       "      <td>telephone</td>\n",
       "      <td>may</td>\n",
       "      <td>mon</td>\n",
       "      <td>...</td>\n",
       "      <td>nonexistent</td>\n",
       "      <td>0.042361</td>\n",
       "      <td>93994.0</td>\n",
       "      <td>-36.4</td>\n",
       "      <td>4857.0</td>\n",
       "      <td>5191.0</td>\n",
       "      <td>0</td>\n",
       "      <td>32-37</td>\n",
       "      <td>Middle</td>\n",
       "      <td>Q2</td>\n",
       "    </tr>\n",
       "    <tr>\n",
       "      <th>3</th>\n",
       "      <td>40</td>\n",
       "      <td>admin.</td>\n",
       "      <td>married</td>\n",
       "      <td>basic.6y</td>\n",
       "      <td>no</td>\n",
       "      <td>no</td>\n",
       "      <td>no</td>\n",
       "      <td>telephone</td>\n",
       "      <td>may</td>\n",
       "      <td>mon</td>\n",
       "      <td>...</td>\n",
       "      <td>nonexistent</td>\n",
       "      <td>0.042361</td>\n",
       "      <td>93994.0</td>\n",
       "      <td>-36.4</td>\n",
       "      <td>4857.0</td>\n",
       "      <td>5191.0</td>\n",
       "      <td>0</td>\n",
       "      <td>38-45</td>\n",
       "      <td>Low</td>\n",
       "      <td>Q2</td>\n",
       "    </tr>\n",
       "    <tr>\n",
       "      <th>4</th>\n",
       "      <td>56</td>\n",
       "      <td>services</td>\n",
       "      <td>married</td>\n",
       "      <td>high.school</td>\n",
       "      <td>no</td>\n",
       "      <td>no</td>\n",
       "      <td>yes</td>\n",
       "      <td>telephone</td>\n",
       "      <td>may</td>\n",
       "      <td>mon</td>\n",
       "      <td>...</td>\n",
       "      <td>nonexistent</td>\n",
       "      <td>0.042361</td>\n",
       "      <td>93994.0</td>\n",
       "      <td>-36.4</td>\n",
       "      <td>4857.0</td>\n",
       "      <td>5191.0</td>\n",
       "      <td>0</td>\n",
       "      <td>&gt;=46</td>\n",
       "      <td>Middle</td>\n",
       "      <td>Q2</td>\n",
       "    </tr>\n",
       "  </tbody>\n",
       "</table>\n",
       "<p>5 rows × 22 columns</p>\n",
       "</div>"
      ],
      "text/plain": [
       "   age        job  marital    education  default housing loan    contact  \\\n",
       "0   56  housemaid  married     basic.4y       no      no   no  telephone   \n",
       "1   57   services  married  high.school  unknown      no   no  telephone   \n",
       "2   37   services  married  high.school       no     yes   no  telephone   \n",
       "3   40     admin.  married     basic.6y       no      no   no  telephone   \n",
       "4   56   services  married  high.school       no      no  yes  telephone   \n",
       "\n",
       "  month day_of_week   ...       poutcome  emp_var_rate cons_price_idx  \\\n",
       "0   may         mon   ...    nonexistent      0.042361        93994.0   \n",
       "1   may         mon   ...    nonexistent      0.042361        93994.0   \n",
       "2   may         mon   ...    nonexistent      0.042361        93994.0   \n",
       "3   may         mon   ...    nonexistent      0.042361        93994.0   \n",
       "4   may         mon   ...    nonexistent      0.042361        93994.0   \n",
       "\n",
       "   cons_conf_idx  euribor3m  nr_employed  takers  age_group  \\\n",
       "0          -36.4     4857.0       5191.0       0       >=46   \n",
       "1          -36.4     4857.0       5191.0       0       >=46   \n",
       "2          -36.4     4857.0       5191.0       0      32-37   \n",
       "3          -36.4     4857.0       5191.0       0      38-45   \n",
       "4          -36.4     4857.0       5191.0       0       >=46   \n",
       "\n",
       "   education_regrouping quarter  \n",
       "0                   Low      Q2  \n",
       "1                Middle      Q2  \n",
       "2                Middle      Q2  \n",
       "3                   Low      Q2  \n",
       "4                Middle      Q2  \n",
       "\n",
       "[5 rows x 22 columns]"
      ]
     },
     "execution_count": 8,
     "metadata": {},
     "output_type": "execute_result"
    }
   ],
   "source": [
    "# age_group\n",
    "bank = bank.withColumn('age_group', \n",
    "                       f.when(f.col('age') <= 31, \"<=31\").\n",
    "                       when(f.col('age').between(32,37), \"32-37\").\n",
    "                       when(f.col('age').between(38,45), \"38-45\").\n",
    "                       otherwise(\">=46\"))\n",
    "\n",
    "# education_regrouping\n",
    "bank = bank.withColumn('education_regrouping', \n",
    "                       f.when((f.col('education')=='basic.4y') | (f.col('education') == 'basic.6y') | \n",
    "                              (f.col('education')=='basic.9y') | (f.col('education')=='illiterate'), 'Low').\n",
    "                       when(f.col('education')=='high.school', 'Middle').\n",
    "                       otherwise('High'))\n",
    "\n",
    "# season\n",
    "bank = bank.withColumn('quarter', \n",
    "                       f.when((f.col('month')=='jan') | (f.col('month') == 'feb') | (f.col('month')=='mar'), 'Q1').\n",
    "                       when((f.col('month')=='apr') | (f.col('month') == 'may') | (f.col('month')=='jun'), 'Q2').\n",
    "                       when((f.col('month')=='jul') | (f.col('month') == 'aug') | (f.col('month')=='sep'), 'Q3').\n",
    "                       otherwise('Q4'))\n",
    "\n",
    "bank.limit(5).toPandas()"
   ]
  },
  {
   "cell_type": "code",
   "execution_count": 9,
   "metadata": {
    "scrolled": false
   },
   "outputs": [
    {
     "name": "stdout",
     "output_type": "stream",
     "text": [
      "+---------+----------------+\n",
      "|age_group|count(age_group)|\n",
      "+---------+----------------+\n",
      "|    38-45|            8721|\n",
      "|    32-37|            9648|\n",
      "|     >=46|           10323|\n",
      "|     <=31|            8366|\n",
      "+---------+----------------+\n",
      "\n",
      "+--------------------+---------------------------+\n",
      "|education_regrouping|count(education_regrouping)|\n",
      "+--------------------+---------------------------+\n",
      "|                High|                      16217|\n",
      "|                 Low|                      11884|\n",
      "|              Middle|                       8957|\n",
      "+--------------------+---------------------------+\n",
      "\n",
      "+-------+--------------+\n",
      "|quarter|count(quarter)|\n",
      "+-------+--------------+\n",
      "|     Q2|         19721|\n",
      "|     Q1|           426|\n",
      "|     Q3|         12547|\n",
      "|     Q4|          4364|\n",
      "+-------+--------------+\n",
      "\n"
     ]
    }
   ],
   "source": [
    "bank.groupBy(\"age_group\").agg({'age_group':'count'}).show()\n",
    "bank.groupBy(\"education_regrouping\").agg({'education_regrouping':'count'}).show()\n",
    "bank.groupBy(\"quarter\").agg({'quarter':'count'}).show()"
   ]
  },
  {
   "cell_type": "markdown",
   "metadata": {},
   "source": [
    "# 3.4 Integrate various data sources "
   ]
  },
  {
   "cell_type": "code",
   "execution_count": 10,
   "metadata": {},
   "outputs": [],
   "source": [
    "bank_jan_jun = bank.filter(col('month').isin(['jan','feb', 'mar', 'apr','may','jun']))\n",
    "bank_jul_dec = bank.filter(col('month').isin(['jul','aug','sep','oct','nov','dec']))"
   ]
  },
  {
   "cell_type": "code",
   "execution_count": 11,
   "metadata": {},
   "outputs": [
    {
     "name": "stdout",
     "output_type": "stream",
     "text": [
      "20147 22\n",
      "16911 22\n"
     ]
    }
   ],
   "source": [
    "# Check the number of rows and columns\n",
    "print(bank_jan_jun.count(), len(bank_jan_jun.columns))\n",
    "print(bank_jul_dec.count(), len(bank_jul_dec.columns))"
   ]
  },
  {
   "cell_type": "code",
   "execution_count": 12,
   "metadata": {},
   "outputs": [
    {
     "data": {
      "text/plain": [
       "(37058, 22)"
      ]
     },
     "execution_count": 12,
     "metadata": {},
     "output_type": "execute_result"
    }
   ],
   "source": [
    "# Integrate various data sources \n",
    "bank = bank_jan_jun.union(bank_jul_dec)\n",
    "\n",
    "# Check the number of rows and columns\n",
    "bank.count(), len(bank.columns)"
   ]
  },
  {
   "cell_type": "markdown",
   "metadata": {},
   "source": [
    "# 3.5 Format the data as required"
   ]
  },
  {
   "cell_type": "code",
   "execution_count": 13,
   "metadata": {
    "scrolled": false
   },
   "outputs": [
    {
     "name": "stdout",
     "output_type": "stream",
     "text": [
      "root\n",
      " |-- age: integer (nullable = true)\n",
      " |-- job: string (nullable = true)\n",
      " |-- marital: string (nullable = true)\n",
      " |-- education: string (nullable = true)\n",
      " |-- default: string (nullable = true)\n",
      " |-- housing: string (nullable = true)\n",
      " |-- loan: string (nullable = true)\n",
      " |-- contact: string (nullable = true)\n",
      " |-- month: string (nullable = true)\n",
      " |-- day_of_week: string (nullable = true)\n",
      " |-- campaign: integer (nullable = true)\n",
      " |-- previous: integer (nullable = true)\n",
      " |-- poutcome: string (nullable = true)\n",
      " |-- emp_var_rate: double (nullable = true)\n",
      " |-- cons_price_idx: double (nullable = true)\n",
      " |-- cons_conf_idx: double (nullable = true)\n",
      " |-- euribor3m: double (nullable = true)\n",
      " |-- nr_employed: double (nullable = true)\n",
      " |-- takers: integer (nullable = true)\n",
      " |-- age_group: string (nullable = false)\n",
      " |-- education_regrouping: string (nullable = false)\n",
      " |-- quarter: string (nullable = false)\n",
      "\n",
      "None\n"
     ]
    }
   ],
   "source": [
    "# Format the data as required\n",
    "\n",
    "# Check the data type\n",
    "print(bank.printSchema())"
   ]
  },
  {
   "cell_type": "code",
   "execution_count": 14,
   "metadata": {},
   "outputs": [],
   "source": [
    "from pyspark.ml.feature import VectorAssembler, OneHotEncoder, StringIndexer\n",
    "from pyspark.ml import Pipeline\n",
    "\n",
    "# Get list of categorical columns except the target variable\n",
    "categorical_cols = [c.name for c in bank.schema.fields if c.dataType.simpleString() == \"string\"]\n",
    "\n",
    "# Get list of non-categorical columns and remove our target variable from the list\n",
    "non_categorical_cols = [c.name for c in bank.schema.fields if c.dataType.simpleString() != \"string\"]\n",
    "non_categorical_cols.remove(\"takers\")\n",
    "\n",
    "# Build StringIndexer stages\n",
    "string_indexer = [StringIndexer(inputCol = c, outputCol = c + \"INT\") for c in categorical_cols]\n",
    "\n",
    "# Input the StringIndexer stages to build the pipeline model\n",
    "pipe = Pipeline(stages = string_indexer)\n",
    "\n",
    "# Apply the pipeline model to the dataset\n",
    "indexed_data = pipe.fit(bank).transform(bank)\n",
    "\n",
    "# Concatenate all the columns\n",
    "bank_reformatted = indexed_data.select([c + \"INT\" for c in categorical_cols] + non_categorical_cols + [\"takers\"])\n",
    "\n",
    "# Rearrange the columns\n",
    "bank_reformatted = bank_reformatted.select('age','age_groupINT','jobINT','maritalINT','educationINT',\n",
    "                                           'education_regroupingINT','defaultINT','housingINT','loanINT',\n",
    "                                           'contactINT','monthINT','quarterINT','day_of_weekINT','campaign',\n",
    "                                           'previous','poutcomeINT','emp_var_rate','cons_price_idx',\n",
    "                                           'cons_conf_idx','euribor3m','nr_employed','takers')"
   ]
  },
  {
   "cell_type": "code",
   "execution_count": 15,
   "metadata": {},
   "outputs": [
    {
     "name": "stdout",
     "output_type": "stream",
     "text": [
      "root\n",
      " |-- age: integer (nullable = true)\n",
      " |-- age_groupINT: double (nullable = true)\n",
      " |-- jobINT: double (nullable = true)\n",
      " |-- maritalINT: double (nullable = true)\n",
      " |-- educationINT: double (nullable = true)\n",
      " |-- education_regroupingINT: double (nullable = true)\n",
      " |-- defaultINT: double (nullable = true)\n",
      " |-- housingINT: double (nullable = true)\n",
      " |-- loanINT: double (nullable = true)\n",
      " |-- contactINT: double (nullable = true)\n",
      " |-- monthINT: double (nullable = true)\n",
      " |-- quarterINT: double (nullable = true)\n",
      " |-- day_of_weekINT: double (nullable = true)\n",
      " |-- campaign: integer (nullable = true)\n",
      " |-- previous: integer (nullable = true)\n",
      " |-- poutcomeINT: double (nullable = true)\n",
      " |-- emp_var_rate: double (nullable = true)\n",
      " |-- cons_price_idx: double (nullable = true)\n",
      " |-- cons_conf_idx: double (nullable = true)\n",
      " |-- euribor3m: double (nullable = true)\n",
      " |-- nr_employed: double (nullable = true)\n",
      " |-- takers: integer (nullable = true)\n",
      "\n",
      "None\n"
     ]
    }
   ],
   "source": [
    "# Check the columnn type\n",
    "print(bank_reformatted.printSchema())"
   ]
  },
  {
   "cell_type": "code",
   "execution_count": 23,
   "metadata": {
    "scrolled": false
   },
   "outputs": [
    {
     "data": {
      "text/html": [
       "<div>\n",
       "<style scoped>\n",
       "    .dataframe tbody tr th:only-of-type {\n",
       "        vertical-align: middle;\n",
       "    }\n",
       "\n",
       "    .dataframe tbody tr th {\n",
       "        vertical-align: top;\n",
       "    }\n",
       "\n",
       "    .dataframe thead th {\n",
       "        text-align: right;\n",
       "    }\n",
       "</style>\n",
       "<table border=\"1\" class=\"dataframe\">\n",
       "  <thead>\n",
       "    <tr style=\"text-align: right;\">\n",
       "      <th></th>\n",
       "      <th>age</th>\n",
       "      <th>age_groupINT</th>\n",
       "      <th>jobINT</th>\n",
       "      <th>maritalINT</th>\n",
       "      <th>educationINT</th>\n",
       "      <th>education_regroupingINT</th>\n",
       "      <th>defaultINT</th>\n",
       "      <th>housingINT</th>\n",
       "      <th>loanINT</th>\n",
       "      <th>contactINT</th>\n",
       "      <th>...</th>\n",
       "      <th>day_of_weekINT</th>\n",
       "      <th>campaign</th>\n",
       "      <th>previous</th>\n",
       "      <th>poutcomeINT</th>\n",
       "      <th>emp_var_rate</th>\n",
       "      <th>cons_price_idx</th>\n",
       "      <th>cons_conf_idx</th>\n",
       "      <th>euribor3m</th>\n",
       "      <th>nr_employed</th>\n",
       "      <th>takers</th>\n",
       "    </tr>\n",
       "  </thead>\n",
       "  <tbody>\n",
       "    <tr>\n",
       "      <th>0</th>\n",
       "      <td>56</td>\n",
       "      <td>0.0</td>\n",
       "      <td>8.0</td>\n",
       "      <td>0.0</td>\n",
       "      <td>4.0</td>\n",
       "      <td>1.0</td>\n",
       "      <td>0.0</td>\n",
       "      <td>1.0</td>\n",
       "      <td>0.0</td>\n",
       "      <td>1.0</td>\n",
       "      <td>...</td>\n",
       "      <td>1.0</td>\n",
       "      <td>1</td>\n",
       "      <td>0</td>\n",
       "      <td>0.0</td>\n",
       "      <td>0.042361</td>\n",
       "      <td>93994.0</td>\n",
       "      <td>-36.4</td>\n",
       "      <td>4857.0</td>\n",
       "      <td>5191.0</td>\n",
       "      <td>0</td>\n",
       "    </tr>\n",
       "    <tr>\n",
       "      <th>1</th>\n",
       "      <td>57</td>\n",
       "      <td>0.0</td>\n",
       "      <td>3.0</td>\n",
       "      <td>0.0</td>\n",
       "      <td>1.0</td>\n",
       "      <td>2.0</td>\n",
       "      <td>1.0</td>\n",
       "      <td>1.0</td>\n",
       "      <td>0.0</td>\n",
       "      <td>1.0</td>\n",
       "      <td>...</td>\n",
       "      <td>1.0</td>\n",
       "      <td>1</td>\n",
       "      <td>0</td>\n",
       "      <td>0.0</td>\n",
       "      <td>0.042361</td>\n",
       "      <td>93994.0</td>\n",
       "      <td>-36.4</td>\n",
       "      <td>4857.0</td>\n",
       "      <td>5191.0</td>\n",
       "      <td>0</td>\n",
       "    </tr>\n",
       "    <tr>\n",
       "      <th>2</th>\n",
       "      <td>37</td>\n",
       "      <td>1.0</td>\n",
       "      <td>3.0</td>\n",
       "      <td>0.0</td>\n",
       "      <td>1.0</td>\n",
       "      <td>2.0</td>\n",
       "      <td>0.0</td>\n",
       "      <td>0.0</td>\n",
       "      <td>0.0</td>\n",
       "      <td>1.0</td>\n",
       "      <td>...</td>\n",
       "      <td>1.0</td>\n",
       "      <td>1</td>\n",
       "      <td>0</td>\n",
       "      <td>0.0</td>\n",
       "      <td>0.042361</td>\n",
       "      <td>93994.0</td>\n",
       "      <td>-36.4</td>\n",
       "      <td>4857.0</td>\n",
       "      <td>5191.0</td>\n",
       "      <td>0</td>\n",
       "    </tr>\n",
       "    <tr>\n",
       "      <th>3</th>\n",
       "      <td>40</td>\n",
       "      <td>2.0</td>\n",
       "      <td>0.0</td>\n",
       "      <td>0.0</td>\n",
       "      <td>5.0</td>\n",
       "      <td>1.0</td>\n",
       "      <td>0.0</td>\n",
       "      <td>1.0</td>\n",
       "      <td>0.0</td>\n",
       "      <td>1.0</td>\n",
       "      <td>...</td>\n",
       "      <td>1.0</td>\n",
       "      <td>1</td>\n",
       "      <td>0</td>\n",
       "      <td>0.0</td>\n",
       "      <td>0.042361</td>\n",
       "      <td>93994.0</td>\n",
       "      <td>-36.4</td>\n",
       "      <td>4857.0</td>\n",
       "      <td>5191.0</td>\n",
       "      <td>0</td>\n",
       "    </tr>\n",
       "    <tr>\n",
       "      <th>4</th>\n",
       "      <td>56</td>\n",
       "      <td>0.0</td>\n",
       "      <td>3.0</td>\n",
       "      <td>0.0</td>\n",
       "      <td>1.0</td>\n",
       "      <td>2.0</td>\n",
       "      <td>0.0</td>\n",
       "      <td>1.0</td>\n",
       "      <td>1.0</td>\n",
       "      <td>1.0</td>\n",
       "      <td>...</td>\n",
       "      <td>1.0</td>\n",
       "      <td>1</td>\n",
       "      <td>0</td>\n",
       "      <td>0.0</td>\n",
       "      <td>0.042361</td>\n",
       "      <td>93994.0</td>\n",
       "      <td>-36.4</td>\n",
       "      <td>4857.0</td>\n",
       "      <td>5191.0</td>\n",
       "      <td>0</td>\n",
       "    </tr>\n",
       "  </tbody>\n",
       "</table>\n",
       "<p>5 rows × 22 columns</p>\n",
       "</div>"
      ],
      "text/plain": [
       "   age  age_groupINT  jobINT  maritalINT  educationINT  \\\n",
       "0   56           0.0     8.0         0.0           4.0   \n",
       "1   57           0.0     3.0         0.0           1.0   \n",
       "2   37           1.0     3.0         0.0           1.0   \n",
       "3   40           2.0     0.0         0.0           5.0   \n",
       "4   56           0.0     3.0         0.0           1.0   \n",
       "\n",
       "   education_regroupingINT  defaultINT  housingINT  loanINT  contactINT  \\\n",
       "0                      1.0         0.0         1.0      0.0         1.0   \n",
       "1                      2.0         1.0         1.0      0.0         1.0   \n",
       "2                      2.0         0.0         0.0      0.0         1.0   \n",
       "3                      1.0         0.0         1.0      0.0         1.0   \n",
       "4                      2.0         0.0         1.0      1.0         1.0   \n",
       "\n",
       "    ...    day_of_weekINT  campaign  previous  poutcomeINT  emp_var_rate  \\\n",
       "0   ...               1.0         1         0          0.0      0.042361   \n",
       "1   ...               1.0         1         0          0.0      0.042361   \n",
       "2   ...               1.0         1         0          0.0      0.042361   \n",
       "3   ...               1.0         1         0          0.0      0.042361   \n",
       "4   ...               1.0         1         0          0.0      0.042361   \n",
       "\n",
       "   cons_price_idx  cons_conf_idx  euribor3m  nr_employed  takers  \n",
       "0         93994.0          -36.4     4857.0       5191.0       0  \n",
       "1         93994.0          -36.4     4857.0       5191.0       0  \n",
       "2         93994.0          -36.4     4857.0       5191.0       0  \n",
       "3         93994.0          -36.4     4857.0       5191.0       0  \n",
       "4         93994.0          -36.4     4857.0       5191.0       0  \n",
       "\n",
       "[5 rows x 22 columns]"
      ]
     },
     "execution_count": 23,
     "metadata": {},
     "output_type": "execute_result"
    }
   ],
   "source": [
    "bank_reformatted.limit(5).toPandas()"
   ]
  },
  {
   "cell_type": "markdown",
   "metadata": {},
   "source": [
    "# 4. DATA TRANSFORMATION"
   ]
  },
  {
   "cell_type": "markdown",
   "metadata": {},
   "source": [
    "# 4.1 Reduce the data "
   ]
  },
  {
   "cell_type": "code",
   "execution_count": 25,
   "metadata": {},
   "outputs": [
    {
     "data": {
      "text/plain": [
       "(37058, 19)"
      ]
     },
     "execution_count": 25,
     "metadata": {},
     "output_type": "execute_result"
    }
   ],
   "source": [
    "# Feature Selection \n",
    "\n",
    "# Using Business Logic\n",
    "bank_reformatted = bank_reformatted.drop(\"age\", \"educationINT\",\"monthINT\")\n",
    "\n",
    "# Check the number of rows and columns\n",
    "bank_reformatted.count(), len(bank_reformatted.columns)"
   ]
  },
  {
   "cell_type": "code",
   "execution_count": 26,
   "metadata": {
    "scrolled": true
   },
   "outputs": [],
   "source": [
    "from pyspark.ml.classification import RandomForestClassifier\n",
    "from pyspark.ml.linalg import Vectors\n",
    "\n",
    "assembler = VectorAssembler(inputCols= [c for c in bank_reformatted.columns if c not in {'takers'}], \n",
    "                            outputCol=\"features\")\n",
    "\n",
    "rf = RandomForestClassifier(labelCol=\"takers\", featuresCol=\"features\", seed = 1234,\n",
    "                            numTrees=10, cacheNodeIds = True, subsamplingRate = 0.7)\n",
    "\n",
    "pipe = Pipeline(stages = [assembler, rf])\n",
    "\n",
    "mod = pipe.fit(bank_reformatted)\n",
    "\n",
    "bank_reformatted_2 = mod.transform(bank_reformatted).select([\"features\", \"takers\"])"
   ]
  },
  {
   "cell_type": "code",
   "execution_count": 27,
   "metadata": {},
   "outputs": [],
   "source": [
    "def ExtractFeatureImp(featureImp, dataset, featuresCol):\n",
    "    list_extract = []\n",
    "    for i in dataset.schema[featuresCol].metadata[\"ml_attr\"][\"attrs\"]:\n",
    "        list_extract = list_extract + dataset.schema[featuresCol].metadata[\"ml_attr\"][\"attrs\"][i]\n",
    "    varlist = pd.DataFrame(list_extract)\n",
    "    varlist['score'] = varlist['idx'].apply(lambda x: featureImp[x])\n",
    "    return(varlist.sort_values('score', ascending = False))"
   ]
  },
  {
   "cell_type": "code",
   "execution_count": 28,
   "metadata": {},
   "outputs": [
    {
     "data": {
      "text/html": [
       "<div>\n",
       "<style scoped>\n",
       "    .dataframe tbody tr th:only-of-type {\n",
       "        vertical-align: middle;\n",
       "    }\n",
       "\n",
       "    .dataframe tbody tr th {\n",
       "        vertical-align: top;\n",
       "    }\n",
       "\n",
       "    .dataframe thead th {\n",
       "        text-align: right;\n",
       "    }\n",
       "</style>\n",
       "<table border=\"1\" class=\"dataframe\">\n",
       "  <thead>\n",
       "    <tr style=\"text-align: right;\">\n",
       "      <th></th>\n",
       "      <th>name</th>\n",
       "      <th>score</th>\n",
       "    </tr>\n",
       "  </thead>\n",
       "  <tbody>\n",
       "    <tr>\n",
       "      <th>17</th>\n",
       "      <td>nr_employed</td>\n",
       "      <td>0.262272</td>\n",
       "    </tr>\n",
       "    <tr>\n",
       "      <th>13</th>\n",
       "      <td>emp_var_rate</td>\n",
       "      <td>0.188672</td>\n",
       "    </tr>\n",
       "    <tr>\n",
       "      <th>16</th>\n",
       "      <td>euribor3m</td>\n",
       "      <td>0.181942</td>\n",
       "    </tr>\n",
       "    <tr>\n",
       "      <th>15</th>\n",
       "      <td>cons_conf_idx</td>\n",
       "      <td>0.125262</td>\n",
       "    </tr>\n",
       "    <tr>\n",
       "      <th>8</th>\n",
       "      <td>quarterINT</td>\n",
       "      <td>0.081126</td>\n",
       "    </tr>\n",
       "    <tr>\n",
       "      <th>14</th>\n",
       "      <td>cons_price_idx</td>\n",
       "      <td>0.064445</td>\n",
       "    </tr>\n",
       "    <tr>\n",
       "      <th>9</th>\n",
       "      <td>day_of_weekINT</td>\n",
       "      <td>0.017682</td>\n",
       "    </tr>\n",
       "    <tr>\n",
       "      <th>7</th>\n",
       "      <td>contactINT</td>\n",
       "      <td>0.017502</td>\n",
       "    </tr>\n",
       "    <tr>\n",
       "      <th>1</th>\n",
       "      <td>jobINT</td>\n",
       "      <td>0.012899</td>\n",
       "    </tr>\n",
       "    <tr>\n",
       "      <th>11</th>\n",
       "      <td>campaign</td>\n",
       "      <td>0.010186</td>\n",
       "    </tr>\n",
       "    <tr>\n",
       "      <th>10</th>\n",
       "      <td>poutcomeINT</td>\n",
       "      <td>0.009706</td>\n",
       "    </tr>\n",
       "    <tr>\n",
       "      <th>12</th>\n",
       "      <td>previous</td>\n",
       "      <td>0.006700</td>\n",
       "    </tr>\n",
       "    <tr>\n",
       "      <th>0</th>\n",
       "      <td>age_groupINT</td>\n",
       "      <td>0.006235</td>\n",
       "    </tr>\n",
       "    <tr>\n",
       "      <th>4</th>\n",
       "      <td>defaultINT</td>\n",
       "      <td>0.006143</td>\n",
       "    </tr>\n",
       "    <tr>\n",
       "      <th>2</th>\n",
       "      <td>maritalINT</td>\n",
       "      <td>0.003057</td>\n",
       "    </tr>\n",
       "    <tr>\n",
       "      <th>3</th>\n",
       "      <td>education_regroupingINT</td>\n",
       "      <td>0.002722</td>\n",
       "    </tr>\n",
       "    <tr>\n",
       "      <th>6</th>\n",
       "      <td>loanINT</td>\n",
       "      <td>0.002160</td>\n",
       "    </tr>\n",
       "    <tr>\n",
       "      <th>5</th>\n",
       "      <td>housingINT</td>\n",
       "      <td>0.001289</td>\n",
       "    </tr>\n",
       "  </tbody>\n",
       "</table>\n",
       "</div>"
      ],
      "text/plain": [
       "                       name     score\n",
       "17              nr_employed  0.262272\n",
       "13             emp_var_rate  0.188672\n",
       "16                euribor3m  0.181942\n",
       "15            cons_conf_idx  0.125262\n",
       "8                quarterINT  0.081126\n",
       "14           cons_price_idx  0.064445\n",
       "9            day_of_weekINT  0.017682\n",
       "7                contactINT  0.017502\n",
       "1                    jobINT  0.012899\n",
       "11                 campaign  0.010186\n",
       "10              poutcomeINT  0.009706\n",
       "12                 previous  0.006700\n",
       "0              age_groupINT  0.006235\n",
       "4                defaultINT  0.006143\n",
       "2                maritalINT  0.003057\n",
       "3   education_regroupingINT  0.002722\n",
       "6                   loanINT  0.002160\n",
       "5                housingINT  0.001289"
      ]
     },
     "execution_count": 28,
     "metadata": {},
     "output_type": "execute_result"
    }
   ],
   "source": [
    "feature_selection = ExtractFeatureImp(mod.stages[-1].featureImportances, bank_reformatted_2, \"features\")\n",
    "feature_selection.drop([\"idx\", \"vals\"], axis=1)"
   ]
  },
  {
   "cell_type": "code",
   "execution_count": 29,
   "metadata": {},
   "outputs": [
    {
     "data": {
      "text/plain": [
       "(37058, 16)"
      ]
     },
     "execution_count": 29,
     "metadata": {},
     "output_type": "execute_result"
    }
   ],
   "source": [
    "# Remove Variable marital, loan, and housing based on the random forest feature selection approach\n",
    "bank_reformatted = bank_reformatted.drop(\"housingINT\",\"education_regroupingINT\",\"loanINT\")\n",
    "\n",
    "# Check the number of rows and columns\n",
    "bank_reformatted.count(), len(bank_reformatted.columns)"
   ]
  },
  {
   "cell_type": "markdown",
   "metadata": {},
   "source": [
    "# 4.2 Project the data"
   ]
  },
  {
   "cell_type": "code",
   "execution_count": 30,
   "metadata": {},
   "outputs": [],
   "source": [
    "# Undersampling the majority class\n",
    "\n",
    "# Split data set into two (takers & non-takers)\n",
    "bank_reformatted_takers = bank_reformatted.filter(\"takers = 1\")\n",
    "\n",
    "bank_reformatted_non_takers = bank_reformatted.filter(\"takers = 0\")\n",
    "\n",
    "# Calculate the ratio for undersampling the majority class\n",
    "sample_ratio = bank_reformatted_takers.count()/bank_reformatted_non_takers.count()\n",
    "\n",
    "# Randomly sample from majority class with specified ratio\n",
    "bank_undersampling = bank_reformatted_takers.unionAll(bank_reformatted_non_takers.\n",
    "                                                      sample(False, sample_ratio, seed=1234))"
   ]
  },
  {
   "cell_type": "code",
   "execution_count": 31,
   "metadata": {},
   "outputs": [
    {
     "data": {
      "text/plain": [
       "(6791, 16)"
      ]
     },
     "execution_count": 31,
     "metadata": {},
     "output_type": "execute_result"
    }
   ],
   "source": [
    "# Check the number of rows and columns\n",
    "bank_undersampling.count(), len(bank_undersampling.columns)"
   ]
  },
  {
   "cell_type": "code",
   "execution_count": 32,
   "metadata": {
    "scrolled": false
   },
   "outputs": [
    {
     "data": {
      "image/png": "[encoded data removed]",
      "text/plain": [
       "<Figure size 648x360 with 2 Axes>"
      ]
     },
     "metadata": {},
     "output_type": "display_data"
    }
   ],
   "source": [
    "# Check the takers proportion \n",
    "import matplotlib.pyplot as plt\n",
    "\n",
    "original = bank_reformatted.groupBy(\"takers\").count().toPandas()\n",
    "after_undersampling = bank_undersampling.groupBy(\"takers\").count().toPandas()\n",
    "\n",
    "\n",
    "fig, ax = plt.subplots(ncols = 2, figsize=(9, 5))\n",
    "plt.subplots_adjust(wspace = 0.5)\n",
    "\n",
    "ypos = np.arange(len(original[\"takers\"]))\n",
    "bar_colours = [\"#ff7f0e\", \"#1f77b4\"]\n",
    "\n",
    "# Bar plot for original data set proportion\n",
    "ax[0].bar(ypos, original[\"count\"], tick_label = original[\"takers\"], color = bar_colours)\n",
    "ax[0].set(xlabel = \"takers\\n(Original)\")\n",
    "# Annotation config\n",
    "for p in ax[0].patches:\n",
    "    ax[0].text(\n",
    "        p.get_x() + p.get_width() / 2.,\n",
    "        p.get_height(),\n",
    "        \"%d\" % int(p.get_height()),\n",
    "        fontsize = 10,\n",
    "        ha = \"center\",\n",
    "        va = \"bottom\"\n",
    "    )\n",
    "\n",
    "# Bar plot for undersampled data set proportion\n",
    "ax[1].bar(ypos, after_undersampling[\"count\"], tick_label = after_undersampling[\"takers\"], color = bar_colours)\n",
    "ax[1].set(xlabel = \"takers\\n(Post-Undersampling)\")\n",
    "# Annotation config\n",
    "for p in ax[1].patches:\n",
    "    ax[1].text(\n",
    "        p.get_x() + p.get_width() / 2.,\n",
    "        p.get_height(),\n",
    "        \"%d\" % int(p.get_height()),\n",
    "        fontsize = 10,\n",
    "        ha = \"center\",\n",
    "        va = \"bottom\"\n",
    "    )\n",
    "\n",
    "plt.show()"
   ]
  },
  {
   "cell_type": "markdown",
   "metadata": {},
   "source": [
    "# Final Feature Matrix"
   ]
  },
  {
   "cell_type": "code",
   "execution_count": 33,
   "metadata": {},
   "outputs": [
    {
     "data": {
      "text/html": [
       "<div>\n",
       "<style scoped>\n",
       "    .dataframe tbody tr th:only-of-type {\n",
       "        vertical-align: middle;\n",
       "    }\n",
       "\n",
       "    .dataframe tbody tr th {\n",
       "        vertical-align: top;\n",
       "    }\n",
       "\n",
       "    .dataframe thead th {\n",
       "        text-align: right;\n",
       "    }\n",
       "</style>\n",
       "<table border=\"1\" class=\"dataframe\">\n",
       "  <thead>\n",
       "    <tr style=\"text-align: right;\">\n",
       "      <th></th>\n",
       "      <th>features</th>\n",
       "      <th>label</th>\n",
       "    </tr>\n",
       "  </thead>\n",
       "  <tbody>\n",
       "    <tr>\n",
       "      <th>0</th>\n",
       "      <td>(0.0, 0.0, 1.0, 0.0, 1.0, 0.0, 0.0, 0.0, 0.0, ...</td>\n",
       "      <td>1</td>\n",
       "    </tr>\n",
       "    <tr>\n",
       "      <th>1</th>\n",
       "      <td>(1.0, 0.0, 0.0, 0.0, 0.0, 0.0, 0.0, 0.0, 0.0, ...</td>\n",
       "      <td>1</td>\n",
       "    </tr>\n",
       "    <tr>\n",
       "      <th>2</th>\n",
       "      <td>(1.0, 0.0, 0.0, 0.0, 0.0, 1.0, 0.0, 0.0, 0.0, ...</td>\n",
       "      <td>1</td>\n",
       "    </tr>\n",
       "    <tr>\n",
       "      <th>3</th>\n",
       "      <td>(0.0, 0.0, 1.0, 0.0, 0.0, 1.0, 0.0, 0.0, 0.0, ...</td>\n",
       "      <td>1</td>\n",
       "    </tr>\n",
       "    <tr>\n",
       "      <th>4</th>\n",
       "      <td>(0.0, 0.0, 1.0, 0.0, 1.0, 0.0, 0.0, 0.0, 0.0, ...</td>\n",
       "      <td>1</td>\n",
       "    </tr>\n",
       "  </tbody>\n",
       "</table>\n",
       "</div>"
      ],
      "text/plain": [
       "                                            features  label\n",
       "0  (0.0, 0.0, 1.0, 0.0, 1.0, 0.0, 0.0, 0.0, 0.0, ...      1\n",
       "1  (1.0, 0.0, 0.0, 0.0, 0.0, 0.0, 0.0, 0.0, 0.0, ...      1\n",
       "2  (1.0, 0.0, 0.0, 0.0, 0.0, 1.0, 0.0, 0.0, 0.0, ...      1\n",
       "3  (0.0, 0.0, 1.0, 0.0, 0.0, 1.0, 0.0, 0.0, 0.0, ...      1\n",
       "4  (0.0, 0.0, 1.0, 0.0, 1.0, 0.0, 0.0, 0.0, 0.0, ...      1"
      ]
     },
     "execution_count": 33,
     "metadata": {},
     "output_type": "execute_result"
    }
   ],
   "source": [
    "from pyspark.ml.feature import VectorAssembler, OneHotEncoder, StringIndexer\n",
    "from pyspark.ml import Pipeline\n",
    "\n",
    "# Get list of categorical columns except the target variable\n",
    "categorical_cols = [c for c in bank_undersampling.columns if 'INT' in c]\n",
    "\n",
    "# Get list of non-categorical columns and remove our target variable from the list\n",
    "non_categorical_cols = [c for c in bank_undersampling.columns if 'INT' not in c]\n",
    "non_categorical_cols.remove(\"takers\")\n",
    "\n",
    "# Get list of target variable \n",
    "target_cols = bank_undersampling.select(\"takers\")\n",
    "\n",
    "# Build OneHotEncoder stages\n",
    "one_hot_encoding = [OneHotEncoder(inputCol = c, outputCol = c + \"_Dummy\") for c in categorical_cols]\n",
    "\n",
    "# Build VectorEncoder stage\n",
    "vector_assembler = VectorAssembler(inputCols = [c + \"_Dummy\" for c in categorical_cols] + non_categorical_cols,\n",
    "                                   outputCol = \"features\")\n",
    "\n",
    "# Combine all stages to build the pipeline model\n",
    "pipe = Pipeline(stages = one_hot_encoding + [vector_assembler])\n",
    "\n",
    "# Fit and transform our undersampled data - this is the final version of our data\n",
    "bank_final_data = pipe.fit(bank_undersampling).transform(bank_undersampling).select([\"features\", \"takers\"])\n",
    "\n",
    "# Rename 'takers' to 'label'\n",
    "bank_final_data = bank_final_data.select(f.col(\"features\"), f.col(\"takers\").alias(\"label\"))\n",
    "\n",
    "# Final Data\n",
    "bank_final_data.limit(5).toPandas()"
   ]
  },
  {
   "cell_type": "markdown",
   "metadata": {},
   "source": [
    "# 7. DATA MINING"
   ]
  },
  {
   "cell_type": "code",
   "execution_count": 34,
   "metadata": {},
   "outputs": [
    {
     "name": "stdout",
     "output_type": "stream",
     "text": [
      "4798 2\n",
      "1993 2\n"
     ]
    }
   ],
   "source": [
    "# Split the data into training and testing\n",
    "train_data, test_data = bank_final_data.randomSplit([0.7, 0.3], seed = 1234)\n",
    "\n",
    "# Check the number of rows and columns\n",
    "print(train_data.count(), len(train_data.columns))\n",
    "print(test_data.count(), len(test_data.columns))"
   ]
  },
  {
   "cell_type": "markdown",
   "metadata": {},
   "source": [
    "# Phase 1 - Initial Model"
   ]
  },
  {
   "cell_type": "markdown",
   "metadata": {},
   "source": [
    "# Logistic Regression"
   ]
  },
  {
   "cell_type": "code",
   "execution_count": 35,
   "metadata": {},
   "outputs": [],
   "source": [
    "from pyspark.ml.classification import LogisticRegression\n",
    "\n",
    "# Configure an ML pipeline, which consists of lr\n",
    "lr = LogisticRegression(featuresCol = \"features\", labelCol = \"label\", maxIter=10)\\\n",
    "    .setRegParam(10)\n",
    "\n",
    "# Run cross-lr, and choose the best set of parameters.\n",
    "LR_model = lr.fit(train_data)\n",
    "\n",
    "# Apply the model to the training and testing data\n",
    "LR_train = LR_model.transform(train_data)\n",
    "LR_test = LR_model.transform(test_data)"
   ]
  },
  {
   "cell_type": "markdown",
   "metadata": {},
   "source": [
    "# Decision Tree"
   ]
  },
  {
   "cell_type": "code",
   "execution_count": 36,
   "metadata": {},
   "outputs": [],
   "source": [
    "from pyspark.ml.classification import DecisionTreeClassifier\n",
    "\n",
    "# Configure an ML pipeline, which consists of decision_tree\n",
    "decision_tree = DecisionTreeClassifier(featuresCol = \"features\", labelCol = \"label\")\\\n",
    "                .setMaxDepth(4).setMaxBins(16).setSeed(1234)\n",
    "\n",
    "# Run cross-validation, and choose the best set of parameters.\n",
    "DT_model = decision_tree.fit(train_data)\n",
    "\n",
    "# Apply the model to the training and testing data\n",
    "DC_train = DT_model.transform(train_data)\n",
    "DC_test = DT_model.transform(test_data)"
   ]
  },
  {
   "cell_type": "markdown",
   "metadata": {},
   "source": [
    "# Random Forest"
   ]
  },
  {
   "cell_type": "code",
   "execution_count": 37,
   "metadata": {},
   "outputs": [],
   "source": [
    "from pyspark.ml.classification import RandomForestClassifier\n",
    "\n",
    "# Build models\n",
    "random_forest = RandomForestClassifier(featuresCol = \"features\", labelCol = \"label\")\\\n",
    "                .setNumTrees(20).setMaxDepth(5).setMaxBins(16).setFeatureSubsetStrategy(\"auto\").setSeed(1234)\n",
    "RF_model = random_forest.fit(train_data)\n",
    "\n",
    "# Apply the model for prediction\n",
    "RF_train = RF_model.transform(train_data)\n",
    "RF_test = RF_model.transform(test_data)"
   ]
  },
  {
   "cell_type": "markdown",
   "metadata": {},
   "source": [
    "# Gradient Boosting"
   ]
  },
  {
   "cell_type": "code",
   "execution_count": 38,
   "metadata": {},
   "outputs": [],
   "source": [
    "from pyspark.ml.classification import GBTClassifier\n",
    "\n",
    "# Build models\n",
    "gradient_boosting = GBTClassifier(featuresCol = \"features\", labelCol = \"label\")\\\n",
    "                    .setMaxIter(10).setMaxBins(16).setMaxDepth(5).setSeed(1234)\n",
    "GBM_model = gradient_boosting.fit(train_data)\n",
    "\n",
    "# Apply the model for prediction\n",
    "GBM_train = GBM_model.transform(train_data)\n",
    "GBM_test = GBM_model.transform(test_data)"
   ]
  },
  {
   "cell_type": "markdown",
   "metadata": {},
   "source": [
    "# Evaluations - Accuracy and ROC"
   ]
  },
  {
   "cell_type": "code",
   "execution_count": 41,
   "metadata": {
    "scrolled": true
   },
   "outputs": [
    {
     "data": {
      "text/html": [
       "<div>\n",
       "<style scoped>\n",
       "    .dataframe tbody tr th:only-of-type {\n",
       "        vertical-align: middle;\n",
       "    }\n",
       "\n",
       "    .dataframe tbody tr th {\n",
       "        vertical-align: top;\n",
       "    }\n",
       "\n",
       "    .dataframe thead th {\n",
       "        text-align: right;\n",
       "    }\n",
       "</style>\n",
       "<table border=\"1\" class=\"dataframe\">\n",
       "  <thead>\n",
       "    <tr style=\"text-align: right;\">\n",
       "      <th></th>\n",
       "      <th>Dataset</th>\n",
       "      <th>Accuracy</th>\n",
       "      <th>ROC</th>\n",
       "      <th>Code</th>\n",
       "    </tr>\n",
       "  </thead>\n",
       "  <tbody>\n",
       "    <tr>\n",
       "      <th>0</th>\n",
       "      <td>Training</td>\n",
       "      <td>0.616924</td>\n",
       "      <td>0.724860</td>\n",
       "      <td>Logistic Regression</td>\n",
       "    </tr>\n",
       "    <tr>\n",
       "      <th>1</th>\n",
       "      <td>Testing</td>\n",
       "      <td>0.606121</td>\n",
       "      <td>0.730972</td>\n",
       "      <td>Logistic Regression</td>\n",
       "    </tr>\n",
       "    <tr>\n",
       "      <th>2</th>\n",
       "      <td>Training</td>\n",
       "      <td>0.688203</td>\n",
       "      <td>0.618051</td>\n",
       "      <td>Decision Tree</td>\n",
       "    </tr>\n",
       "    <tr>\n",
       "      <th>3</th>\n",
       "      <td>Testing</td>\n",
       "      <td>0.693929</td>\n",
       "      <td>0.598713</td>\n",
       "      <td>Decision Tree</td>\n",
       "    </tr>\n",
       "    <tr>\n",
       "      <th>4</th>\n",
       "      <td>Training</td>\n",
       "      <td>0.697999</td>\n",
       "      <td>0.762489</td>\n",
       "      <td>Random Forest</td>\n",
       "    </tr>\n",
       "    <tr>\n",
       "      <th>5</th>\n",
       "      <td>Testing</td>\n",
       "      <td>0.696939</td>\n",
       "      <td>0.752363</td>\n",
       "      <td>Random Forest</td>\n",
       "    </tr>\n",
       "    <tr>\n",
       "      <th>6</th>\n",
       "      <td>Training</td>\n",
       "      <td>0.715090</td>\n",
       "      <td>0.717521</td>\n",
       "      <td>Gradient Boosting</td>\n",
       "    </tr>\n",
       "    <tr>\n",
       "      <th>7</th>\n",
       "      <td>Testing</td>\n",
       "      <td>0.693427</td>\n",
       "      <td>0.689281</td>\n",
       "      <td>Gradient Boosting</td>\n",
       "    </tr>\n",
       "  </tbody>\n",
       "</table>\n",
       "</div>"
      ],
      "text/plain": [
       "    Dataset  Accuracy       ROC                 Code\n",
       "0  Training  0.616924  0.724860  Logistic Regression\n",
       "1   Testing  0.606121  0.730972  Logistic Regression\n",
       "2  Training  0.688203  0.618051        Decision Tree\n",
       "3   Testing  0.693929  0.598713        Decision Tree\n",
       "4  Training  0.697999  0.762489        Random Forest\n",
       "5   Testing  0.696939  0.752363        Random Forest\n",
       "6  Training  0.715090  0.717521    Gradient Boosting\n",
       "7   Testing  0.693427  0.689281    Gradient Boosting"
      ]
     },
     "execution_count": 41,
     "metadata": {},
     "output_type": "execute_result"
    }
   ],
   "source": [
    "from pyspark.ml.evaluation import BinaryClassificationEvaluator, MulticlassClassificationEvaluator\n",
    "\n",
    "# Evaluators\n",
    "binary_eval = BinaryClassificationEvaluator(labelCol = \"label\")\n",
    "multi_eval_acc = MulticlassClassificationEvaluator(labelCol = \"label\", metricName = \"accuracy\")\n",
    "\n",
    "# Create pandas data frame to store the result of our model metrics\n",
    "model_metrics = pd.DataFrame(columns = [\"Dataset\", \"Accuracy\", \"ROC\"])\n",
    "\n",
    "# Logistic Regression\n",
    "model_metrics = model_metrics.append(\n",
    "    {\n",
    "        \"Dataset\" : \"Training\",\n",
    "        \"Code\" : \"Logistic Regression\",\n",
    "        \"Accuracy\" : multi_eval_acc.evaluate(LR_train),\n",
    "        \"ROC\" : binary_eval.evaluate(LR_train)\n",
    "    },\n",
    "    ignore_index = True\n",
    ")\n",
    "\n",
    "model_metrics = model_metrics.append(\n",
    "    {\n",
    "        \"Dataset\" : \"Testing\",\n",
    "        \"Code\" : \"Logistic Regression\",\n",
    "        \"Accuracy\" : multi_eval_acc.evaluate(LR_test),\n",
    "        \"ROC\" : binary_eval.evaluate(LR_test)\n",
    "    },\n",
    "    ignore_index = True\n",
    ")\n",
    "\n",
    "# Decision Tree\n",
    "model_metrics = model_metrics.append(\n",
    "    {\n",
    "        \"Dataset\" : \"Training\",\n",
    "        \"Code\" : \"Decision Tree\",\n",
    "        \"Accuracy\" : multi_eval_acc.evaluate(DC_train),\n",
    "        \"ROC\" : binary_eval.evaluate(DC_train)\n",
    "    },\n",
    "    ignore_index = True\n",
    ")\n",
    "\n",
    "model_metrics = model_metrics.append(\n",
    "    {\n",
    "        \"Dataset\" : \"Testing\",\n",
    "        \"Code\" : \"Decision Tree\",\n",
    "        \"Accuracy\" : multi_eval_acc.evaluate(DC_test),\n",
    "        \"ROC\" : binary_eval.evaluate(DC_test)\n",
    "    },\n",
    "    ignore_index = True\n",
    ")\n",
    "    \n",
    "# Random Forest\n",
    "model_metrics = model_metrics.append(\n",
    "    {\n",
    "        \"Dataset\" : \"Training\",\n",
    "        \"Code\" : \"Random Forest\",\n",
    "        \"Accuracy\" : multi_eval_acc.evaluate(RF_train),\n",
    "        \"ROC\" : binary_eval.evaluate(RF_train)\n",
    "    },\n",
    "    ignore_index = True\n",
    ")\n",
    "\n",
    "model_metrics = model_metrics.append(\n",
    "    {\n",
    "        \"Dataset\" : \"Testing\",\n",
    "        \"Code\" : \"Random Forest\",\n",
    "        \"Accuracy\" : multi_eval_acc.evaluate(RF_test),\n",
    "        \"ROC\" : binary_eval.evaluate(RF_test)\n",
    "    },\n",
    "    ignore_index = True\n",
    ")\n",
    "    \n",
    "# Gradient Boosting\n",
    "binary_eval_gbc = BinaryClassificationEvaluator(labelCol = \"label\", rawPredictionCol = 'prediction')\n",
    "\n",
    "model_metrics = model_metrics.append(\n",
    "    {\n",
    "        \"Dataset\" : \"Training\",\n",
    "        \"Code\" : \"Gradient Boosting\",\n",
    "        \"Accuracy\" : multi_eval_acc.evaluate(GBM_train),\n",
    "        \"ROC\" : binary_eval_gbc.evaluate(GBM_train),\n",
    "    },\n",
    "    ignore_index = True\n",
    ")\n",
    "\n",
    "model_metrics = model_metrics.append(\n",
    "    {\n",
    "        \"Dataset\" : \"Testing\",\n",
    "        \"Code\" : \"Gradient Boosting\",\n",
    "        \"Accuracy\" : multi_eval_acc.evaluate(GBM_test),\n",
    "        \"ROC\" : binary_eval_gbc.evaluate(GBM_test),\n",
    "    },\n",
    "    ignore_index = True\n",
    ")\n",
    "\n",
    "model_metrics"
   ]
  },
  {
   "cell_type": "markdown",
   "metadata": {},
   "source": [
    "# Confusion Matrix"
   ]
  },
  {
   "cell_type": "code",
   "execution_count": 42,
   "metadata": {},
   "outputs": [],
   "source": [
    "from pyspark.mllib.evaluation import MulticlassMetrics\n",
    "\n",
    "# Generates confusion matrix\n",
    "def generate_cm(pred):\n",
    "    cm_rdd = pred.select(\"prediction\", \"label\").rdd.map(\n",
    "        lambda x: (float(x[\"prediction\"]), float(x[\"label\"]))\n",
    "    )\n",
    "    # Get the values\n",
    "    cm = MulticlassMetrics(cm_rdd).confusionMatrix().toArray()\n",
    "    \n",
    "    return cm   \n",
    "\n",
    "# Plots confusion matrix heatmap\n",
    "def plot_cm(cm, code, ax, fig):\n",
    "    im = ax.matshow(cm, cmap = \"Blues\")\n",
    "    \n",
    "    ax.set_xlabel(\"Actual\")\n",
    "    ax.set_ylabel(\"Predicted\")\n",
    "    ax.set_title(\n",
    "        model_metrics[model_metrics[\"Code\"] == code][\"Model\"].item()\\\n",
    "        if code in model_metrics[\"Code\"].values\\\n",
    "        else code\n",
    "    )\n",
    "    \n",
    "    ax.set_xticks([0, 1])\n",
    "    ax.set_xticklabels([\"TRUE\", \"FALSE\"])\n",
    "    ax.set_yticks([0, 1])\n",
    "    ax.set_yticklabels([\"TRUE\", \"FALSE\"])\n",
    "    \n",
    "    ax.tick_params(\n",
    "        axis = \"x\",\n",
    "        bottom = True, top = False,\n",
    "        labelbottom = True, labeltop = False\n",
    "    )\n",
    "    ax.tick_params(\n",
    "        axis = \"y\",\n",
    "        rotation = 90\n",
    "    )\n",
    "    \n",
    "    # Display the colour bar\n",
    "    fig.colorbar(im, ax = ax)\n",
    "    \n",
    "    # Get the range of the data\n",
    "    cm_range = [cm.min(), cm.max()]\n",
    "    # Calculate the threshold value for annotation text colour\n",
    "    threshold = cm_range[0] + ((cm_range[1] - cm_range[0]) / 2)\n",
    "    \n",
    "    # Display annotation text\n",
    "    for i in range(cm.shape[0]):\n",
    "        for j in range(cm.shape[1]):\n",
    "            ax.text(\n",
    "                j, i, format(cm[i, j], \"g\"),\n",
    "                horizontalalignment = \"center\",\n",
    "                color = \"white\" if cm[i, j] > threshold else \"black\"\n",
    "            ) "
   ]
  },
  {
   "cell_type": "code",
   "execution_count": 43,
   "metadata": {},
   "outputs": [
    {
     "data": {
      "image/png": "[encoded data removed]",
      "text/plain": [
       "<Figure size 864x720 with 4 Axes>"
      ]
     },
     "metadata": {},
     "output_type": "display_data"
    }
   ],
   "source": [
    "# Visualize the Confusion Matrix\n",
    "conf_matrix_LR_Train = generate_cm(LR_train)\n",
    "conf_matrix_LR_Test = generate_cm(LR_test)\n",
    "fig, ax = plt.subplots(nrows = 1, ncols = 2, figsize=(12, 10))\n",
    "plt.subplots_adjust(wspace = 0.3, hspace = 0.4)\n",
    "plot_cm(conf_matrix_LR_Train, \"LR - Training\", ax[0], fig)\n",
    "plot_cm(conf_matrix_LR_Test, \"LR - Testing\", ax[1], fig)\n",
    "plt.show()"
   ]
  },
  {
   "cell_type": "code",
   "execution_count": 44,
   "metadata": {},
   "outputs": [
    {
     "data": {
      "image/png": "[encoded data removed]",
      "text/plain": [
       "<Figure size 864x720 with 4 Axes>"
      ]
     },
     "metadata": {},
     "output_type": "display_data"
    }
   ],
   "source": [
    "conf_matrix_DC_Train = generate_cm(DC_train)\n",
    "conf_matrix_DC_Test = generate_cm(DC_test)\n",
    "fig, ax = plt.subplots(nrows = 1, ncols = 2, figsize=(12, 10))\n",
    "plt.subplots_adjust(wspace = 0.3, hspace = 0.4)\n",
    "plot_cm(conf_matrix_DC_Train, \"DC - Training\", ax[0], fig)\n",
    "plot_cm(conf_matrix_DC_Test, \"DC - Testing\", ax[1], fig)\n",
    "plt.show()"
   ]
  },
  {
   "cell_type": "code",
   "execution_count": 45,
   "metadata": {},
   "outputs": [
    {
     "data": {
      "image/png": "[encoded data removed]",
      "text/plain": [
       "<Figure size 864x720 with 4 Axes>"
      ]
     },
     "metadata": {},
     "output_type": "display_data"
    }
   ],
   "source": [
    "conf_matrix_RF_Train = generate_cm(RF_train)\n",
    "conf_matrix_RF_Test = generate_cm(RF_test)\n",
    "fig, ax = plt.subplots(nrows = 1, ncols = 2, figsize=(12, 10))\n",
    "plt.subplots_adjust(wspace = 0.3, hspace = 0.4)\n",
    "plot_cm(conf_matrix_RF_Train, \"RF - Training\", ax[0], fig)\n",
    "plot_cm(conf_matrix_RF_Test, \"RF - Testing\", ax[1], fig)\n",
    "plt.show()"
   ]
  },
  {
   "cell_type": "code",
   "execution_count": 46,
   "metadata": {
    "scrolled": false
   },
   "outputs": [
    {
     "data": {
      "image/png": "[encoded data removed]",
      "text/plain": [
       "<Figure size 864x720 with 4 Axes>"
      ]
     },
     "metadata": {},
     "output_type": "display_data"
    }
   ],
   "source": [
    "conf_matrix_GBM_Train = generate_cm(GBM_train)\n",
    "conf_matrix_GBM_Test = generate_cm(GBM_test)\n",
    "fig, ax = plt.subplots(nrows = 1, ncols = 2, figsize=(12, 10))\n",
    "plt.subplots_adjust(wspace = 0.3, hspace = 0.4)\n",
    "plot_cm(conf_matrix_GBM_Train, \"GBM - Training\", ax[0], fig)\n",
    "plot_cm(conf_matrix_GBM_Test, \"GBM - Testing\", ax[1], fig)\n",
    "plt.show()"
   ]
  },
  {
   "cell_type": "markdown",
   "metadata": {},
   "source": [
    "# Feature Importance from the Phase 1 (Random Forest)"
   ]
  },
  {
   "cell_type": "code",
   "execution_count": 47,
   "metadata": {},
   "outputs": [],
   "source": [
    "# Extract the list of features from the one-hot encoded vector\n",
    "features = train_data.schema[\"features\"].metadata[\"ml_attr\"][\"attrs\"][\"binary\"] + train_data.schema[\"features\"].metadata[\"ml_attr\"][\"attrs\"][\"numeric\"]"
   ]
  },
  {
   "cell_type": "code",
   "execution_count": 48,
   "metadata": {},
   "outputs": [
    {
     "data": {
      "image/png": "[encoded data removed]",
      "text/plain": [
       "<Figure size 640x480 with 1 Axes>"
      ]
     },
     "metadata": {},
     "output_type": "display_data"
    }
   ],
   "source": [
    "features_importance = pd.DataFrame([(f[\"name\"], RF_model.featureImportances[f[\"idx\"]]) \n",
    "                            for f in features], columns = [\"feature\", \"importance\"]).sort_values(\"importance\", ascending = False)\n",
    "\n",
    "plt.rcdefaults()\n",
    "fig, ax = plt.subplots()\n",
    "\n",
    "# Example data\n",
    "people = features_importance['feature'][1:10]\n",
    "y_pos = np.arange(len(people))\n",
    "performance = features_importance['importance'][1:10]\n",
    "\n",
    "ax.barh(y_pos, performance, align='center')\n",
    "ax.set_yticks(y_pos)\n",
    "ax.set_yticklabels(people)\n",
    "ax.invert_yaxis()  # labels read top-to-bottom\n",
    "ax.set_xlabel('Relative Importance')\n",
    "ax.set_title('Feature Importance')\n",
    "\n",
    "plt.show()"
   ]
  },
  {
   "cell_type": "markdown",
   "metadata": {},
   "source": [
    "# Phase 2 - Model Hyperparameter Tuning"
   ]
  },
  {
   "cell_type": "markdown",
   "metadata": {},
   "source": [
    "# Random Forest"
   ]
  },
  {
   "cell_type": "code",
   "execution_count": 49,
   "metadata": {},
   "outputs": [],
   "source": [
    "from pyspark.ml.classification import RandomForestClassifier\n",
    "from pyspark.ml.evaluation import BinaryClassificationEvaluator\n",
    "from pyspark.ml.tuning import CrossValidator, ParamGridBuilder\n",
    "\n",
    "# Build the Random Forest Hyperparameter Tuning Model\n",
    "random_forest_tuning = RandomForestClassifier(featuresCol = \"features\", labelCol = \"label\").setSeed(1234)\n",
    "\n",
    "# Specify the parameters\n",
    "paramGrid = ParamGridBuilder().addGrid(random_forest_tuning.numTrees, [20,60,100,200])\\\n",
    "            .addGrid(random_forest_tuning.maxDepth, [5,8,10])\\\n",
    "            .addGrid(random_forest_tuning.maxBins, [16, 32]).build()\n",
    "rf_crossval = CrossValidator(estimator=random_forest_tuning,\n",
    "                          estimatorParamMaps=paramGrid,\n",
    "                          evaluator=BinaryClassificationEvaluator(),\n",
    "                          numFolds=5)\n",
    "\n",
    "# Run cross-validation, and choose the best set of parameters.\n",
    "RF_model_tuning = rf_crossval.fit(train_data)\n",
    "\n",
    "# Apply the model to the training and testing data\n",
    "RF_tuning_train = RF_model_tuning.transform(train_data)\n",
    "RF_tuning_test = RF_model_tuning.transform(test_data)"
   ]
  },
  {
   "cell_type": "markdown",
   "metadata": {},
   "source": [
    "# Evaluations - Accuracy and ROC"
   ]
  },
  {
   "cell_type": "code",
   "execution_count": 50,
   "metadata": {},
   "outputs": [
    {
     "data": {
      "text/html": [
       "<div>\n",
       "<style scoped>\n",
       "    .dataframe tbody tr th:only-of-type {\n",
       "        vertical-align: middle;\n",
       "    }\n",
       "\n",
       "    .dataframe tbody tr th {\n",
       "        vertical-align: top;\n",
       "    }\n",
       "\n",
       "    .dataframe thead th {\n",
       "        text-align: right;\n",
       "    }\n",
       "</style>\n",
       "<table border=\"1\" class=\"dataframe\">\n",
       "  <thead>\n",
       "    <tr style=\"text-align: right;\">\n",
       "      <th></th>\n",
       "      <th>Dataset</th>\n",
       "      <th>Accuracy</th>\n",
       "      <th>ROC</th>\n",
       "      <th>Code</th>\n",
       "    </tr>\n",
       "  </thead>\n",
       "  <tbody>\n",
       "    <tr>\n",
       "      <th>0</th>\n",
       "      <td>Training</td>\n",
       "      <td>0.721551</td>\n",
       "      <td>0.820146</td>\n",
       "      <td>Random Forest</td>\n",
       "    </tr>\n",
       "    <tr>\n",
       "      <th>1</th>\n",
       "      <td>Testing</td>\n",
       "      <td>0.701957</td>\n",
       "      <td>0.758008</td>\n",
       "      <td>Random Forest</td>\n",
       "    </tr>\n",
       "  </tbody>\n",
       "</table>\n",
       "</div>"
      ],
      "text/plain": [
       "    Dataset  Accuracy       ROC           Code\n",
       "0  Training  0.721551  0.820146  Random Forest\n",
       "1   Testing  0.701957  0.758008  Random Forest"
      ]
     },
     "execution_count": 50,
     "metadata": {},
     "output_type": "execute_result"
    }
   ],
   "source": [
    "from pyspark.ml.evaluation import BinaryClassificationEvaluator, MulticlassClassificationEvaluator\n",
    "\n",
    "# Evaluators\n",
    "binary_eval = BinaryClassificationEvaluator(labelCol = \"label\")\n",
    "multi_eval_acc = MulticlassClassificationEvaluator(labelCol = \"label\", metricName = \"accuracy\")\n",
    "\n",
    "# Create pandas data frame to store the result of our model metrics\n",
    "model_metrics = pd.DataFrame(columns = [\"Dataset\", \"Accuracy\", \"ROC\"])\n",
    "\n",
    "# Random Forest\n",
    "model_metrics = model_metrics.append(\n",
    "    {\n",
    "        \"Dataset\" : \"Training\",\n",
    "        \"Code\" : \"Random Forest\",\n",
    "        \"Accuracy\" : multi_eval_acc.evaluate(RF_tuning_train),\n",
    "        \"ROC\" : binary_eval.evaluate(RF_tuning_train)\n",
    "    },\n",
    "    ignore_index = True\n",
    ")\n",
    "\n",
    "model_metrics = model_metrics.append(\n",
    "    {\n",
    "        \"Dataset\" : \"Testing\",\n",
    "        \"Code\" : \"Random Forest\",\n",
    "        \"Accuracy\" : multi_eval_acc.evaluate(RF_tuning_test),\n",
    "        \"ROC\" : binary_eval.evaluate(RF_tuning_test)\n",
    "    },\n",
    "    ignore_index = True\n",
    ")\n",
    "    \n",
    "model_metrics"
   ]
  },
  {
   "cell_type": "markdown",
   "metadata": {},
   "source": [
    "# Confusion Matrix"
   ]
  },
  {
   "cell_type": "code",
   "execution_count": 51,
   "metadata": {},
   "outputs": [
    {
     "data": {
      "image/png": "[encoded data removed]",
      "text/plain": [
       "<Figure size 1200x1000 with 4 Axes>"
      ]
     },
     "metadata": {},
     "output_type": "display_data"
    }
   ],
   "source": [
    "conf_matrix_RF_Tuning_Train = generate_cm(RF_tuning_train)\n",
    "conf_matrix_RF_Tuning_Test = generate_cm(RF_tuning_test)\n",
    "fig, ax = plt.subplots(nrows = 1, ncols = 2, figsize=(12, 10))\n",
    "plt.subplots_adjust(wspace = 0.3, hspace = 0.4)\n",
    "plot_cm(conf_matrix_RF_Tuning_Train, \"RF Tuning - Training\", ax[0], fig)\n",
    "plot_cm(conf_matrix_RF_Tuning_Test, \"RF Tuning - Testing\", ax[1], fig)\n",
    "plt.show()"
   ]
  },
  {
   "cell_type": "markdown",
   "metadata": {},
   "source": [
    "# Feature Importance from the Phase 2 (Random Forest)"
   ]
  },
  {
   "cell_type": "code",
   "execution_count": 52,
   "metadata": {},
   "outputs": [],
   "source": [
    "# Extract the list of features from the one-hot encoded vector\n",
    "features = train_data.schema[\"features\"].metadata[\"ml_attr\"][\"attrs\"][\"binary\"] + train_data.schema[\"features\"].metadata[\"ml_attr\"][\"attrs\"][\"numeric\"]"
   ]
  },
  {
   "cell_type": "code",
   "execution_count": 53,
   "metadata": {},
   "outputs": [
    {
     "data": {
      "image/png": "[encoded data removed]",
      "text/plain": [
       "<Figure size 640x480 with 1 Axes>"
      ]
     },
     "metadata": {},
     "output_type": "display_data"
    }
   ],
   "source": [
    "features_importance = pd.DataFrame([(f[\"name\"], RF_model_tuning.bestModel.featureImportances[f[\"idx\"]]) \n",
    "                            for f in features], columns = [\"feature\", \"importance\"]).sort_values(\"importance\", ascending = False)\n",
    "\n",
    "plt.rcdefaults()\n",
    "fig, ax = plt.subplots()\n",
    "\n",
    "# Example data\n",
    "people = features_importance['feature'][1:10]\n",
    "y_pos = np.arange(len(people))\n",
    "performance = features_importance['importance'][1:10]\n",
    "\n",
    "ax.barh(y_pos, performance, align='center')\n",
    "ax.set_yticks(y_pos)\n",
    "ax.set_yticklabels(people)\n",
    "ax.invert_yaxis()  # labels read top-to-bottom\n",
    "ax.set_xlabel('Relative Importance')\n",
    "ax.set_title('Feature Importance')\n",
    "\n",
    "plt.show()"
   ]
  },
  {
   "cell_type": "markdown",
   "metadata": {},
   "source": [
    "# Interpretation"
   ]
  },
  {
   "cell_type": "code",
   "execution_count": 67,
   "metadata": {},
   "outputs": [],
   "source": [
    "# Save the probabilities prediction result to a CSV file\n",
    "RF_test.select(\"probability\").toPandas().to_csv(\"RF_test_prob.csv\")\n",
    "RF_tuning_test.select(\"probability\").toPandas().to_csv(\"RF_tuning_test_prob.csv\")\n",
    "test_data.toPandas().to_csv(\"test_data.csv\")"
   ]
  },
  {
   "cell_type": "code",
   "execution_count": null,
   "metadata": {},
   "outputs": [],
   "source": [
    "# See the lift & gain chart on the excel file\n",
    "# RF_test_prob.xlsx (For Iteration I - Random Forest Model)\n",
    "# RF_tuning_test_prob.xlsx (For Iteration II - Random Forest Tuned Model)"
   ]
  },
  {
   "cell_type": "code",
   "execution_count": null,
   "metadata": {},
   "outputs": [],
   "source": []
  }
 ],
 "metadata": {
  "kernelspec": {
   "display_name": "Python 3",
   "language": "python",
   "name": "python3"
  },
  "language_info": {
   "codemirror_mode": {
    "name": "ipython",
    "version": 3
   },
   "file_extension": ".py",
   "mimetype": "text/x-python",
   "name": "python",
   "nbconvert_exporter": "python",
   "pygments_lexer": "ipython3",
   "version": "3.5.2"
  }
 },
 "nbformat": 4,
 "nbformat_minor": 2
}
